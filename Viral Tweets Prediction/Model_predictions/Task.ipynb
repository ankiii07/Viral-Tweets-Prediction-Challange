{
 "cells": [
  {
   "cell_type": "code",
   "execution_count": 1,
   "id": "72d55e8d",
   "metadata": {},
   "outputs": [],
   "source": [
    "import pandas as pd\n",
    "import seaborn as sns\n",
    "import matplotlib.pyplot as plt\n",
    "import matplotlib.gridspec as gridspec\n",
    "%matplotlib inline\n",
    "import numpy as np"
   ]
  },
  {
   "cell_type": "code",
   "execution_count": 2,
   "id": "48fa5280",
   "metadata": {},
   "outputs": [],
   "source": [
    "df1_tweets = pd.read_csv('train_tweets.csv')\n",
    "df2_tweets = pd.read_csv('test_tweets.csv')"
   ]
  },
  {
   "cell_type": "code",
   "execution_count": 3,
   "id": "e63aed05",
   "metadata": {},
   "outputs": [
    {
     "data": {
      "text/html": [
       "<div>\n",
       "<style scoped>\n",
       "    .dataframe tbody tr th:only-of-type {\n",
       "        vertical-align: middle;\n",
       "    }\n",
       "\n",
       "    .dataframe tbody tr th {\n",
       "        vertical-align: top;\n",
       "    }\n",
       "\n",
       "    .dataframe thead th {\n",
       "        text-align: right;\n",
       "    }\n",
       "</style>\n",
       "<table border=\"1\" class=\"dataframe\">\n",
       "  <thead>\n",
       "    <tr style=\"text-align: right;\">\n",
       "      <th></th>\n",
       "      <th>tweet_id</th>\n",
       "      <th>tweet_user_id</th>\n",
       "      <th>tweet_created_at_year</th>\n",
       "      <th>tweet_created_at_month</th>\n",
       "      <th>tweet_created_at_day</th>\n",
       "      <th>tweet_created_at_hour</th>\n",
       "      <th>tweet_hashtag_count</th>\n",
       "      <th>tweet_url_count</th>\n",
       "      <th>tweet_mention_count</th>\n",
       "      <th>tweet_has_attachment</th>\n",
       "      <th>tweet_attachment_class</th>\n",
       "      <th>tweet_language_id</th>\n",
       "      <th>tweet_topic_ids</th>\n",
       "      <th>virality</th>\n",
       "    </tr>\n",
       "  </thead>\n",
       "  <tbody>\n",
       "    <tr>\n",
       "      <th>0</th>\n",
       "      <td>34698</td>\n",
       "      <td>10</td>\n",
       "      <td>2015</td>\n",
       "      <td>12</td>\n",
       "      <td>5</td>\n",
       "      <td>3</td>\n",
       "      <td>2.0</td>\n",
       "      <td>1.0</td>\n",
       "      <td>0.0</td>\n",
       "      <td>False</td>\n",
       "      <td>C</td>\n",
       "      <td>0</td>\n",
       "      <td>['36', '36', '36', '36', '36', '36', '37', '37...</td>\n",
       "      <td>3</td>\n",
       "    </tr>\n",
       "    <tr>\n",
       "      <th>1</th>\n",
       "      <td>24644</td>\n",
       "      <td>4</td>\n",
       "      <td>2020</td>\n",
       "      <td>6</td>\n",
       "      <td>19</td>\n",
       "      <td>0</td>\n",
       "      <td>0.0</td>\n",
       "      <td>1.0</td>\n",
       "      <td>0.0</td>\n",
       "      <td>False</td>\n",
       "      <td>C</td>\n",
       "      <td>0</td>\n",
       "      <td>['43', '78', '79', '80', '80', '89', '98', '99...</td>\n",
       "      <td>3</td>\n",
       "    </tr>\n",
       "    <tr>\n",
       "      <th>2</th>\n",
       "      <td>36321</td>\n",
       "      <td>54</td>\n",
       "      <td>2019</td>\n",
       "      <td>6</td>\n",
       "      <td>2</td>\n",
       "      <td>15</td>\n",
       "      <td>2.0</td>\n",
       "      <td>3.0</td>\n",
       "      <td>0.0</td>\n",
       "      <td>True</td>\n",
       "      <td>A</td>\n",
       "      <td>0</td>\n",
       "      <td>['79', '80', '98', '98', '98', '99', '99', '10...</td>\n",
       "      <td>1</td>\n",
       "    </tr>\n",
       "    <tr>\n",
       "      <th>3</th>\n",
       "      <td>2629</td>\n",
       "      <td>42</td>\n",
       "      <td>2020</td>\n",
       "      <td>9</td>\n",
       "      <td>6</td>\n",
       "      <td>17</td>\n",
       "      <td>0.0</td>\n",
       "      <td>1.0</td>\n",
       "      <td>1.0</td>\n",
       "      <td>True</td>\n",
       "      <td>A</td>\n",
       "      <td>0</td>\n",
       "      <td>['43', '79', '80', '98', '99', '99', '79', '80']</td>\n",
       "      <td>2</td>\n",
       "    </tr>\n",
       "    <tr>\n",
       "      <th>4</th>\n",
       "      <td>28169</td>\n",
       "      <td>32</td>\n",
       "      <td>2020</td>\n",
       "      <td>11</td>\n",
       "      <td>4</td>\n",
       "      <td>17</td>\n",
       "      <td>2.0</td>\n",
       "      <td>1.0</td>\n",
       "      <td>0.0</td>\n",
       "      <td>True</td>\n",
       "      <td>A</td>\n",
       "      <td>0</td>\n",
       "      <td>['79', '80', '98', '99', '43', '89']</td>\n",
       "      <td>2</td>\n",
       "    </tr>\n",
       "    <tr>\n",
       "      <th>...</th>\n",
       "      <td>...</td>\n",
       "      <td>...</td>\n",
       "      <td>...</td>\n",
       "      <td>...</td>\n",
       "      <td>...</td>\n",
       "      <td>...</td>\n",
       "      <td>...</td>\n",
       "      <td>...</td>\n",
       "      <td>...</td>\n",
       "      <td>...</td>\n",
       "      <td>...</td>\n",
       "      <td>...</td>\n",
       "      <td>...</td>\n",
       "      <td>...</td>\n",
       "    </tr>\n",
       "    <tr>\n",
       "      <th>29620</th>\n",
       "      <td>24846</td>\n",
       "      <td>4</td>\n",
       "      <td>2019</td>\n",
       "      <td>8</td>\n",
       "      <td>30</td>\n",
       "      <td>17</td>\n",
       "      <td>0.0</td>\n",
       "      <td>1.0</td>\n",
       "      <td>0.0</td>\n",
       "      <td>True</td>\n",
       "      <td>A</td>\n",
       "      <td>0</td>\n",
       "      <td>['78', '79', '80', '98', '99', '100', '78', '7...</td>\n",
       "      <td>3</td>\n",
       "    </tr>\n",
       "    <tr>\n",
       "      <th>29621</th>\n",
       "      <td>7320</td>\n",
       "      <td>21</td>\n",
       "      <td>2018</td>\n",
       "      <td>12</td>\n",
       "      <td>21</td>\n",
       "      <td>13</td>\n",
       "      <td>2.0</td>\n",
       "      <td>1.0</td>\n",
       "      <td>0.0</td>\n",
       "      <td>True</td>\n",
       "      <td>A</td>\n",
       "      <td>0</td>\n",
       "      <td>['98', '99', '100']</td>\n",
       "      <td>2</td>\n",
       "    </tr>\n",
       "    <tr>\n",
       "      <th>29622</th>\n",
       "      <td>7447</td>\n",
       "      <td>21</td>\n",
       "      <td>2018</td>\n",
       "      <td>9</td>\n",
       "      <td>29</td>\n",
       "      <td>18</td>\n",
       "      <td>0.0</td>\n",
       "      <td>1.0</td>\n",
       "      <td>0.0</td>\n",
       "      <td>True</td>\n",
       "      <td>A</td>\n",
       "      <td>0</td>\n",
       "      <td>['98', '99', '100']</td>\n",
       "      <td>2</td>\n",
       "    </tr>\n",
       "    <tr>\n",
       "      <th>29623</th>\n",
       "      <td>26737</td>\n",
       "      <td>41</td>\n",
       "      <td>2017</td>\n",
       "      <td>2</td>\n",
       "      <td>5</td>\n",
       "      <td>16</td>\n",
       "      <td>0.0</td>\n",
       "      <td>2.0</td>\n",
       "      <td>0.0</td>\n",
       "      <td>True</td>\n",
       "      <td>A</td>\n",
       "      <td>0</td>\n",
       "      <td>NaN</td>\n",
       "      <td>2</td>\n",
       "    </tr>\n",
       "    <tr>\n",
       "      <th>29624</th>\n",
       "      <td>5151</td>\n",
       "      <td>1</td>\n",
       "      <td>2020</td>\n",
       "      <td>3</td>\n",
       "      <td>15</td>\n",
       "      <td>17</td>\n",
       "      <td>2.0</td>\n",
       "      <td>1.0</td>\n",
       "      <td>1.0</td>\n",
       "      <td>False</td>\n",
       "      <td>C</td>\n",
       "      <td>0</td>\n",
       "      <td>['156', '79', '80', '80', '81', '81', '98', '99']</td>\n",
       "      <td>2</td>\n",
       "    </tr>\n",
       "  </tbody>\n",
       "</table>\n",
       "<p>29625 rows × 14 columns</p>\n",
       "</div>"
      ],
      "text/plain": [
       "       tweet_id  tweet_user_id  tweet_created_at_year  tweet_created_at_month  \\\n",
       "0         34698             10                   2015                      12   \n",
       "1         24644              4                   2020                       6   \n",
       "2         36321             54                   2019                       6   \n",
       "3          2629             42                   2020                       9   \n",
       "4         28169             32                   2020                      11   \n",
       "...         ...            ...                    ...                     ...   \n",
       "29620     24846              4                   2019                       8   \n",
       "29621      7320             21                   2018                      12   \n",
       "29622      7447             21                   2018                       9   \n",
       "29623     26737             41                   2017                       2   \n",
       "29624      5151              1                   2020                       3   \n",
       "\n",
       "       tweet_created_at_day  tweet_created_at_hour  tweet_hashtag_count  \\\n",
       "0                         5                      3                  2.0   \n",
       "1                        19                      0                  0.0   \n",
       "2                         2                     15                  2.0   \n",
       "3                         6                     17                  0.0   \n",
       "4                         4                     17                  2.0   \n",
       "...                     ...                    ...                  ...   \n",
       "29620                    30                     17                  0.0   \n",
       "29621                    21                     13                  2.0   \n",
       "29622                    29                     18                  0.0   \n",
       "29623                     5                     16                  0.0   \n",
       "29624                    15                     17                  2.0   \n",
       "\n",
       "       tweet_url_count  tweet_mention_count  tweet_has_attachment  \\\n",
       "0                  1.0                  0.0                 False   \n",
       "1                  1.0                  0.0                 False   \n",
       "2                  3.0                  0.0                  True   \n",
       "3                  1.0                  1.0                  True   \n",
       "4                  1.0                  0.0                  True   \n",
       "...                ...                  ...                   ...   \n",
       "29620              1.0                  0.0                  True   \n",
       "29621              1.0                  0.0                  True   \n",
       "29622              1.0                  0.0                  True   \n",
       "29623              2.0                  0.0                  True   \n",
       "29624              1.0                  1.0                 False   \n",
       "\n",
       "      tweet_attachment_class  tweet_language_id  \\\n",
       "0                          C                  0   \n",
       "1                          C                  0   \n",
       "2                          A                  0   \n",
       "3                          A                  0   \n",
       "4                          A                  0   \n",
       "...                      ...                ...   \n",
       "29620                      A                  0   \n",
       "29621                      A                  0   \n",
       "29622                      A                  0   \n",
       "29623                      A                  0   \n",
       "29624                      C                  0   \n",
       "\n",
       "                                         tweet_topic_ids  virality  \n",
       "0      ['36', '36', '36', '36', '36', '36', '37', '37...         3  \n",
       "1      ['43', '78', '79', '80', '80', '89', '98', '99...         3  \n",
       "2      ['79', '80', '98', '98', '98', '99', '99', '10...         1  \n",
       "3       ['43', '79', '80', '98', '99', '99', '79', '80']         2  \n",
       "4                   ['79', '80', '98', '99', '43', '89']         2  \n",
       "...                                                  ...       ...  \n",
       "29620  ['78', '79', '80', '98', '99', '100', '78', '7...         3  \n",
       "29621                                ['98', '99', '100']         2  \n",
       "29622                                ['98', '99', '100']         2  \n",
       "29623                                                NaN         2  \n",
       "29624  ['156', '79', '80', '80', '81', '81', '98', '99']         2  \n",
       "\n",
       "[29625 rows x 14 columns]"
      ]
     },
     "execution_count": 3,
     "metadata": {},
     "output_type": "execute_result"
    }
   ],
   "source": [
    "df1_tweets"
   ]
  },
  {
   "cell_type": "code",
   "execution_count": 4,
   "id": "41b4eb91",
   "metadata": {},
   "outputs": [
    {
     "name": "stdout",
     "output_type": "stream",
     "text": [
      "<class 'pandas.core.frame.DataFrame'>\n",
      "RangeIndex: 29625 entries, 0 to 29624\n",
      "Data columns (total 14 columns):\n",
      " #   Column                  Non-Null Count  Dtype  \n",
      "---  ------                  --------------  -----  \n",
      " 0   tweet_id                29625 non-null  int64  \n",
      " 1   tweet_user_id           29625 non-null  int64  \n",
      " 2   tweet_created_at_year   29625 non-null  int64  \n",
      " 3   tweet_created_at_month  29625 non-null  int64  \n",
      " 4   tweet_created_at_day    29625 non-null  int64  \n",
      " 5   tweet_created_at_hour   29625 non-null  int64  \n",
      " 6   tweet_hashtag_count     29625 non-null  float64\n",
      " 7   tweet_url_count         29625 non-null  float64\n",
      " 8   tweet_mention_count     29625 non-null  float64\n",
      " 9   tweet_has_attachment    29625 non-null  bool   \n",
      " 10  tweet_attachment_class  29625 non-null  object \n",
      " 11  tweet_language_id       29625 non-null  int64  \n",
      " 12  tweet_topic_ids         25340 non-null  object \n",
      " 13  virality                29625 non-null  int64  \n",
      "dtypes: bool(1), float64(3), int64(8), object(2)\n",
      "memory usage: 3.0+ MB\n"
     ]
    }
   ],
   "source": [
    "df1_tweets.info()"
   ]
  },
  {
   "cell_type": "code",
   "execution_count": 5,
   "id": "761ac7e9",
   "metadata": {},
   "outputs": [
    {
     "name": "stdout",
     "output_type": "stream",
     "text": [
      "Column: tweet_id. Unique Count: [34698 24644 36321 ...  7447 26737  5151]\n",
      "Column: tweet_user_id. Unique Count: [10  4 54 42 32 34 43 16 37  6 39  3 22 11 45 31 23  0  1 49 33 28 19 48\n",
      " 27  5 47 38 46 18 17 26 40 50 52 15  2 12  8 30 53 14 35 41 44 20 24 13\n",
      " 21 55  7 25]\n",
      "Column: tweet_created_at_year. Unique Count: [2015 2020 2019 2016 2021 2018 2017 2013 2014]\n",
      "Column: tweet_created_at_month. Unique Count: [12  6  9 11  8  7  3  1  2 10  5  4]\n",
      "Column: tweet_created_at_day. Unique Count: [ 5 19  2  6  4 22 11 10 30 15 17 24 21 12 16 23 27  8 25 18 14 26  7 13\n",
      "  1 28  9 20 31  3 29]\n",
      "Column: tweet_created_at_hour. Unique Count: [ 3  0 15 17 20 13 18  8 11 14 21  1 12 19 23 16 10  5  4 22  9  7  2  6]\n",
      "Column: tweet_hashtag_count. Unique Count: [ 2.  0.  3.  5.  1.  4.  6.  7.  8. 11. 10. 14.  9.]\n",
      "Column: tweet_url_count. Unique Count: [1. 3. 2. 5. 4. 0. 6. 8.]\n",
      "Column: tweet_mention_count. Unique Count: [ 0.  1.  2.  6.  3.  4.  5.  8.  7. 10.  9. 13. 16. 11. 15. 14.]\n",
      "Column: tweet_has_attachment. Unique Count: [False  True]\n",
      "Column: tweet_attachment_class. Unique Count: ['C' 'A' 'B']\n",
      "Column: tweet_language_id. Unique Count: [ 0  3  6  4  9  1 15 23  5 18 19  8 12 20  7 10  2 28 11 21 22 27 13 14\n",
      " 30 29 24 16 25 17]\n",
      "Column: tweet_topic_ids. Unique Count: [\"['36', '36', '36', '36', '36', '36', '37', '37', '37', '37', '37', '37']\"\n",
      " \"['43', '78', '79', '80', '80', '89', '98', '99', '100']\"\n",
      " \"['79', '80', '98', '98', '98', '99', '99', '100', '100', '79', '80']\"\n",
      " ... \"['45', '45', '78', '79', '79', '80']\"\n",
      " \"['80', '98', '99', '99', '80']\"\n",
      " \"['156', '79', '80', '80', '81', '81', '98', '99']\"]\n",
      "Column: virality. Unique Count: [3 1 2 5 4]\n"
     ]
    }
   ],
   "source": [
    "for col in df1_tweets.columns:\n",
    "    print('Column: {0}. Unique Count: {1}'.format(col, df1_tweets[col].unique()))"
   ]
  },
  {
   "cell_type": "code",
   "execution_count": 6,
   "id": "edbfe2ac",
   "metadata": {},
   "outputs": [
    {
     "name": "stdout",
     "output_type": "stream",
     "text": [
      "==================================================================\n",
      "tweet_id : [34698 24644 36321 ...  7447 26737  5151]\n",
      "==================================================================\n",
      "tweet_user_id : [10  4 54 42 32 34 43 16 37  6 39  3 22 11 45 31 23  0  1 49 33 28 19 48\n",
      " 27  5 47 38 46 18 17 26 40 50 52 15  2 12  8 30 53 14 35 41 44 20 24 13\n",
      " 21 55  7 25]\n",
      "==================================================================\n",
      "tweet_created_at_year : [2015 2020 2019 2016 2021 2018 2017 2013 2014]\n",
      "==================================================================\n",
      "tweet_created_at_month : [12  6  9 11  8  7  3  1  2 10  5  4]\n",
      "==================================================================\n",
      "tweet_created_at_day : [ 5 19  2  6  4 22 11 10 30 15 17 24 21 12 16 23 27  8 25 18 14 26  7 13\n",
      "  1 28  9 20 31  3 29]\n",
      "==================================================================\n",
      "tweet_created_at_hour : [ 3  0 15 17 20 13 18  8 11 14 21  1 12 19 23 16 10  5  4 22  9  7  2  6]\n",
      "==================================================================\n",
      "tweet_hashtag_count : [ 2.  0.  3.  5.  1.  4.  6.  7.  8. 11. 10. 14.  9.]\n",
      "==================================================================\n",
      "tweet_url_count : [1. 3. 2. 5. 4. 0. 6. 8.]\n",
      "==================================================================\n",
      "tweet_mention_count : [ 0.  1.  2.  6.  3.  4.  5.  8.  7. 10.  9. 13. 16. 11. 15. 14.]\n",
      "==================================================================\n",
      "tweet_has_attachment : [False  True]\n",
      "==================================================================\n",
      "tweet_attachment_class : ['C' 'A' 'B']\n",
      "==================================================================\n",
      "tweet_language_id : [ 0  3  6  4  9  1 15 23  5 18 19  8 12 20  7 10  2 28 11 21 22 27 13 14\n",
      " 30 29 24 16 25 17]\n",
      "==================================================================\n",
      "tweet_topic_ids : [\"['36', '36', '36', '36', '36', '36', '37', '37', '37', '37', '37', '37']\"\n",
      " \"['43', '78', '79', '80', '80', '89', '98', '99', '100']\"\n",
      " \"['79', '80', '98', '98', '98', '99', '99', '100', '100', '79', '80']\"\n",
      " ... \"['45', '45', '78', '79', '79', '80']\"\n",
      " \"['80', '98', '99', '99', '80']\"\n",
      " \"['156', '79', '80', '80', '81', '81', '98', '99']\"]\n",
      "==================================================================\n",
      "virality : [3 1 2 5 4]\n"
     ]
    }
   ],
   "source": [
    "categorical_val = []\n",
    "continous_val = []\n",
    "for column in df1_tweets.columns:\n",
    "    print('==================================================================')\n",
    "    print(f\"{column} : {df1_tweets[column].unique()}\")\n",
    "    if len(df1_tweets[column].unique()) <= 10:\n",
    "        categorical_val.append(column)\n",
    "    else:\n",
    "        continous_val.append(column)"
   ]
  },
  {
   "cell_type": "code",
   "execution_count": 7,
   "id": "d599a606",
   "metadata": {},
   "outputs": [
    {
     "data": {
      "text/plain": [
       "<AxesSubplot:>"
      ]
     },
     "execution_count": 7,
     "metadata": {},
     "output_type": "execute_result"
    },
    {
     "data": {
      "image/png": "[encoded data removed]",
      "text/plain": [
       "<Figure size 432x288 with 1 Axes>"
      ]
     },
     "metadata": {
      "needs_background": "light"
     },
     "output_type": "display_data"
    }
   ],
   "source": [
    "df1_tweets.virality.value_counts().plot(kind=\"bar\", color=[\"red\", \"green\",\"blue\",\"grey\",\"yellow\"])"
   ]
  },
  {
   "cell_type": "code",
   "execution_count": 8,
   "id": "5e71639e",
   "metadata": {},
   "outputs": [
    {
     "data": {
      "text/plain": [
       "tweet_id                     0\n",
       "tweet_user_id                0\n",
       "tweet_created_at_year        0\n",
       "tweet_created_at_month       0\n",
       "tweet_created_at_day         0\n",
       "tweet_created_at_hour        0\n",
       "tweet_hashtag_count          0\n",
       "tweet_url_count              0\n",
       "tweet_mention_count          0\n",
       "tweet_has_attachment         0\n",
       "tweet_attachment_class       0\n",
       "tweet_language_id            0\n",
       "tweet_topic_ids           4285\n",
       "virality                     0\n",
       "dtype: int64"
      ]
     },
     "execution_count": 8,
     "metadata": {},
     "output_type": "execute_result"
    }
   ],
   "source": [
    "df1_tweets.isna().sum()"
   ]
  },
  {
   "cell_type": "code",
   "execution_count": 9,
   "id": "3b095433",
   "metadata": {},
   "outputs": [
    {
     "name": "stdout",
     "output_type": "stream",
     "text": [
      "1.0331525015069318\n"
     ]
    }
   ],
   "source": [
    "missing_values_count = df1_tweets.isnull().sum()\n",
    "\n",
    "total_cells = np.product(df1_tweets.shape)\n",
    "\n",
    "total_missing = missing_values_count.sum()\n",
    "\n",
    "percentage_missing = (total_missing/total_cells)*100\n",
    "print(percentage_missing)"
   ]
  },
  {
   "cell_type": "code",
   "execution_count": 10,
   "id": "802023d5",
   "metadata": {},
   "outputs": [
    {
     "data": {
      "text/html": [
       "<div>\n",
       "<style scoped>\n",
       "    .dataframe tbody tr th:only-of-type {\n",
       "        vertical-align: middle;\n",
       "    }\n",
       "\n",
       "    .dataframe tbody tr th {\n",
       "        vertical-align: top;\n",
       "    }\n",
       "\n",
       "    .dataframe thead th {\n",
       "        text-align: right;\n",
       "    }\n",
       "</style>\n",
       "<table border=\"1\" class=\"dataframe\">\n",
       "  <thead>\n",
       "    <tr style=\"text-align: right;\">\n",
       "      <th></th>\n",
       "      <th>column_name</th>\n",
       "      <th>percentage</th>\n",
       "    </tr>\n",
       "  </thead>\n",
       "  <tbody>\n",
       "    <tr>\n",
       "      <th>0</th>\n",
       "      <td>tweet_id</td>\n",
       "      <td>0.000000</td>\n",
       "    </tr>\n",
       "    <tr>\n",
       "      <th>1</th>\n",
       "      <td>tweet_user_id</td>\n",
       "      <td>0.000000</td>\n",
       "    </tr>\n",
       "    <tr>\n",
       "      <th>2</th>\n",
       "      <td>tweet_created_at_year</td>\n",
       "      <td>0.000000</td>\n",
       "    </tr>\n",
       "    <tr>\n",
       "      <th>3</th>\n",
       "      <td>tweet_created_at_month</td>\n",
       "      <td>0.000000</td>\n",
       "    </tr>\n",
       "    <tr>\n",
       "      <th>4</th>\n",
       "      <td>tweet_created_at_day</td>\n",
       "      <td>0.000000</td>\n",
       "    </tr>\n",
       "    <tr>\n",
       "      <th>5</th>\n",
       "      <td>tweet_created_at_hour</td>\n",
       "      <td>0.000000</td>\n",
       "    </tr>\n",
       "    <tr>\n",
       "      <th>6</th>\n",
       "      <td>tweet_hashtag_count</td>\n",
       "      <td>0.000000</td>\n",
       "    </tr>\n",
       "    <tr>\n",
       "      <th>7</th>\n",
       "      <td>tweet_url_count</td>\n",
       "      <td>0.000000</td>\n",
       "    </tr>\n",
       "    <tr>\n",
       "      <th>8</th>\n",
       "      <td>tweet_mention_count</td>\n",
       "      <td>0.000000</td>\n",
       "    </tr>\n",
       "    <tr>\n",
       "      <th>9</th>\n",
       "      <td>tweet_has_attachment</td>\n",
       "      <td>0.000000</td>\n",
       "    </tr>\n",
       "    <tr>\n",
       "      <th>10</th>\n",
       "      <td>tweet_attachment_class</td>\n",
       "      <td>0.000000</td>\n",
       "    </tr>\n",
       "    <tr>\n",
       "      <th>11</th>\n",
       "      <td>tweet_language_id</td>\n",
       "      <td>0.000000</td>\n",
       "    </tr>\n",
       "    <tr>\n",
       "      <th>12</th>\n",
       "      <td>tweet_topic_ids</td>\n",
       "      <td>14.464135</td>\n",
       "    </tr>\n",
       "    <tr>\n",
       "      <th>13</th>\n",
       "      <td>virality</td>\n",
       "      <td>0.000000</td>\n",
       "    </tr>\n",
       "  </tbody>\n",
       "</table>\n",
       "</div>"
      ],
      "text/plain": [
       "               column_name  percentage\n",
       "0                 tweet_id    0.000000\n",
       "1            tweet_user_id    0.000000\n",
       "2    tweet_created_at_year    0.000000\n",
       "3   tweet_created_at_month    0.000000\n",
       "4     tweet_created_at_day    0.000000\n",
       "5    tweet_created_at_hour    0.000000\n",
       "6      tweet_hashtag_count    0.000000\n",
       "7          tweet_url_count    0.000000\n",
       "8      tweet_mention_count    0.000000\n",
       "9     tweet_has_attachment    0.000000\n",
       "10  tweet_attachment_class    0.000000\n",
       "11       tweet_language_id    0.000000\n",
       "12         tweet_topic_ids   14.464135\n",
       "13                virality    0.000000"
      ]
     },
     "execution_count": 10,
     "metadata": {},
     "output_type": "execute_result"
    }
   ],
   "source": [
    "NAN = [(c, df1_tweets[c].isnull().mean()*100) for c in df1_tweets]\n",
    "NAN = pd.DataFrame(NAN, columns=['column_name', 'percentage'])\n",
    "NAN"
   ]
  },
  {
   "cell_type": "code",
   "execution_count": 11,
   "id": "01f29fff",
   "metadata": {},
   "outputs": [],
   "source": [
    "df1_tweets.ffill(inplace=True)"
   ]
  },
  {
   "cell_type": "code",
   "execution_count": 12,
   "id": "43fd3978",
   "metadata": {},
   "outputs": [
    {
     "data": {
      "text/html": [
       "<div>\n",
       "<style scoped>\n",
       "    .dataframe tbody tr th:only-of-type {\n",
       "        vertical-align: middle;\n",
       "    }\n",
       "\n",
       "    .dataframe tbody tr th {\n",
       "        vertical-align: top;\n",
       "    }\n",
       "\n",
       "    .dataframe thead th {\n",
       "        text-align: right;\n",
       "    }\n",
       "</style>\n",
       "<table border=\"1\" class=\"dataframe\">\n",
       "  <thead>\n",
       "    <tr style=\"text-align: right;\">\n",
       "      <th></th>\n",
       "      <th>tweet_id</th>\n",
       "      <th>tweet_user_id</th>\n",
       "      <th>tweet_created_at_year</th>\n",
       "      <th>tweet_created_at_month</th>\n",
       "      <th>tweet_created_at_day</th>\n",
       "      <th>tweet_created_at_hour</th>\n",
       "      <th>tweet_hashtag_count</th>\n",
       "      <th>tweet_url_count</th>\n",
       "      <th>tweet_mention_count</th>\n",
       "      <th>tweet_has_attachment</th>\n",
       "      <th>tweet_attachment_class</th>\n",
       "      <th>tweet_language_id</th>\n",
       "      <th>tweet_topic_ids</th>\n",
       "      <th>virality</th>\n",
       "    </tr>\n",
       "  </thead>\n",
       "  <tbody>\n",
       "    <tr>\n",
       "      <th>0</th>\n",
       "      <td>34698</td>\n",
       "      <td>10</td>\n",
       "      <td>2015</td>\n",
       "      <td>12</td>\n",
       "      <td>5</td>\n",
       "      <td>3</td>\n",
       "      <td>2.0</td>\n",
       "      <td>1.0</td>\n",
       "      <td>0.0</td>\n",
       "      <td>False</td>\n",
       "      <td>C</td>\n",
       "      <td>0</td>\n",
       "      <td>['36', '36', '36', '36', '36', '36', '37', '37...</td>\n",
       "      <td>3</td>\n",
       "    </tr>\n",
       "    <tr>\n",
       "      <th>1</th>\n",
       "      <td>24644</td>\n",
       "      <td>4</td>\n",
       "      <td>2020</td>\n",
       "      <td>6</td>\n",
       "      <td>19</td>\n",
       "      <td>0</td>\n",
       "      <td>0.0</td>\n",
       "      <td>1.0</td>\n",
       "      <td>0.0</td>\n",
       "      <td>False</td>\n",
       "      <td>C</td>\n",
       "      <td>0</td>\n",
       "      <td>['43', '78', '79', '80', '80', '89', '98', '99...</td>\n",
       "      <td>3</td>\n",
       "    </tr>\n",
       "    <tr>\n",
       "      <th>2</th>\n",
       "      <td>36321</td>\n",
       "      <td>54</td>\n",
       "      <td>2019</td>\n",
       "      <td>6</td>\n",
       "      <td>2</td>\n",
       "      <td>15</td>\n",
       "      <td>2.0</td>\n",
       "      <td>3.0</td>\n",
       "      <td>0.0</td>\n",
       "      <td>True</td>\n",
       "      <td>A</td>\n",
       "      <td>0</td>\n",
       "      <td>['79', '80', '98', '98', '98', '99', '99', '10...</td>\n",
       "      <td>1</td>\n",
       "    </tr>\n",
       "    <tr>\n",
       "      <th>3</th>\n",
       "      <td>2629</td>\n",
       "      <td>42</td>\n",
       "      <td>2020</td>\n",
       "      <td>9</td>\n",
       "      <td>6</td>\n",
       "      <td>17</td>\n",
       "      <td>0.0</td>\n",
       "      <td>1.0</td>\n",
       "      <td>1.0</td>\n",
       "      <td>True</td>\n",
       "      <td>A</td>\n",
       "      <td>0</td>\n",
       "      <td>['43', '79', '80', '98', '99', '99', '79', '80']</td>\n",
       "      <td>2</td>\n",
       "    </tr>\n",
       "    <tr>\n",
       "      <th>4</th>\n",
       "      <td>28169</td>\n",
       "      <td>32</td>\n",
       "      <td>2020</td>\n",
       "      <td>11</td>\n",
       "      <td>4</td>\n",
       "      <td>17</td>\n",
       "      <td>2.0</td>\n",
       "      <td>1.0</td>\n",
       "      <td>0.0</td>\n",
       "      <td>True</td>\n",
       "      <td>A</td>\n",
       "      <td>0</td>\n",
       "      <td>['79', '80', '98', '99', '43', '89']</td>\n",
       "      <td>2</td>\n",
       "    </tr>\n",
       "  </tbody>\n",
       "</table>\n",
       "</div>"
      ],
      "text/plain": [
       "   tweet_id  tweet_user_id  tweet_created_at_year  tweet_created_at_month  \\\n",
       "0     34698             10                   2015                      12   \n",
       "1     24644              4                   2020                       6   \n",
       "2     36321             54                   2019                       6   \n",
       "3      2629             42                   2020                       9   \n",
       "4     28169             32                   2020                      11   \n",
       "\n",
       "   tweet_created_at_day  tweet_created_at_hour  tweet_hashtag_count  \\\n",
       "0                     5                      3                  2.0   \n",
       "1                    19                      0                  0.0   \n",
       "2                     2                     15                  2.0   \n",
       "3                     6                     17                  0.0   \n",
       "4                     4                     17                  2.0   \n",
       "\n",
       "   tweet_url_count  tweet_mention_count  tweet_has_attachment  \\\n",
       "0              1.0                  0.0                 False   \n",
       "1              1.0                  0.0                 False   \n",
       "2              3.0                  0.0                  True   \n",
       "3              1.0                  1.0                  True   \n",
       "4              1.0                  0.0                  True   \n",
       "\n",
       "  tweet_attachment_class  tweet_language_id  \\\n",
       "0                      C                  0   \n",
       "1                      C                  0   \n",
       "2                      A                  0   \n",
       "3                      A                  0   \n",
       "4                      A                  0   \n",
       "\n",
       "                                     tweet_topic_ids  virality  \n",
       "0  ['36', '36', '36', '36', '36', '36', '37', '37...         3  \n",
       "1  ['43', '78', '79', '80', '80', '89', '98', '99...         3  \n",
       "2  ['79', '80', '98', '98', '98', '99', '99', '10...         1  \n",
       "3   ['43', '79', '80', '98', '99', '99', '79', '80']         2  \n",
       "4               ['79', '80', '98', '99', '43', '89']         2  "
      ]
     },
     "execution_count": 12,
     "metadata": {},
     "output_type": "execute_result"
    }
   ],
   "source": [
    "df1_tweets.head()"
   ]
  },
  {
   "cell_type": "code",
   "execution_count": 13,
   "id": "51996c80",
   "metadata": {},
   "outputs": [
    {
     "data": {
      "text/plain": [
       "tweet_id                  0\n",
       "tweet_user_id             0\n",
       "tweet_created_at_year     0\n",
       "tweet_created_at_month    0\n",
       "tweet_created_at_day      0\n",
       "tweet_created_at_hour     0\n",
       "tweet_hashtag_count       0\n",
       "tweet_url_count           0\n",
       "tweet_mention_count       0\n",
       "tweet_has_attachment      0\n",
       "tweet_attachment_class    0\n",
       "tweet_language_id         0\n",
       "tweet_topic_ids           0\n",
       "virality                  0\n",
       "dtype: int64"
      ]
     },
     "execution_count": 13,
     "metadata": {},
     "output_type": "execute_result"
    }
   ],
   "source": [
    "df1_tweets.isna().sum()"
   ]
  },
  {
   "cell_type": "code",
   "execution_count": 14,
   "id": "a223a69a",
   "metadata": {},
   "outputs": [
    {
     "data": {
      "text/plain": [
       "A    17511\n",
       "C    11825\n",
       "B      289\n",
       "Name: tweet_attachment_class, dtype: int64"
      ]
     },
     "execution_count": 14,
     "metadata": {},
     "output_type": "execute_result"
    },
    {
     "data": {
      "image/png": "[encoded data removed]",
      "text/plain": [
       "<Figure size 720x360 with 1 Axes>"
      ]
     },
     "metadata": {
      "needs_background": "light"
     },
     "output_type": "display_data"
    }
   ],
   "source": [
    "df1_tweets['tweet_attachment_class'].value_counts().plot(kind ='bar',figsize=[10,5])\n",
    "df1_tweets['tweet_attachment_class'].value_counts()"
   ]
  },
  {
   "cell_type": "code",
   "execution_count": 15,
   "id": "51ea43af",
   "metadata": {},
   "outputs": [],
   "source": [
    "from sklearn import preprocessing"
   ]
  },
  {
   "cell_type": "code",
   "execution_count": 16,
   "id": "4a817c45",
   "metadata": {},
   "outputs": [],
   "source": [
    "le = preprocessing.LabelEncoder()\n",
    "le.fit(df1_tweets['tweet_has_attachment'])\n",
    "list(le.classes_)\n",
    "df1_tweets['tweet_has_attachment'] = le.transform(df1_tweets['tweet_has_attachment']) "
   ]
  },
  {
   "cell_type": "code",
   "execution_count": 17,
   "id": "ffc2f01c",
   "metadata": {},
   "outputs": [],
   "source": [
    "le1 = preprocessing.LabelEncoder()\n",
    "le.fit(df1_tweets['tweet_attachment_class'])\n",
    "list(le.classes_)\n",
    "df1_tweets['tweet_attachment_class'] = le.transform(df1_tweets['tweet_attachment_class'])"
   ]
  },
  {
   "cell_type": "code",
   "execution_count": 18,
   "id": "4255cfaa",
   "metadata": {},
   "outputs": [],
   "source": [
    "from sklearn.ensemble import RandomForestRegressor"
   ]
  },
  {
   "cell_type": "code",
   "execution_count": 19,
   "id": "d9421cba",
   "metadata": {},
   "outputs": [],
   "source": [
    "x = df1_tweets.copy()\n",
    "y = x.pop('virality')"
   ]
  },
  {
   "cell_type": "code",
   "execution_count": 20,
   "id": "56a799f8",
   "metadata": {},
   "outputs": [],
   "source": [
    "for colname in x.select_dtypes('object'):\n",
    "    x[colname],_ = x[colname].factorize()\n",
    "    \n",
    "discrete_features = x.dtypes ==int"
   ]
  },
  {
   "cell_type": "code",
   "execution_count": 21,
   "id": "1f3b9283",
   "metadata": {},
   "outputs": [
    {
     "data": {
      "text/plain": [
       "tweet_id                  0.483595\n",
       "tweet_user_id             0.372126\n",
       "tweet_topic_ids           0.124294\n",
       "tweet_url_count           0.019552\n",
       "tweet_created_at_year     0.018420\n",
       "tweet_has_attachment      0.014654\n",
       "tweet_created_at_hour     0.011464\n",
       "tweet_hashtag_count       0.009618\n",
       "tweet_created_at_month    0.008386\n",
       "tweet_mention_count       0.005680\n",
       "tweet_created_at_day      0.004760\n",
       "tweet_attachment_class    0.004688\n",
       "tweet_language_id         0.000849\n",
       "Name: MI Scores, dtype: float64"
      ]
     },
     "execution_count": 21,
     "metadata": {},
     "output_type": "execute_result"
    }
   ],
   "source": [
    "from sklearn.feature_selection import mutual_info_regression\n",
    "\n",
    "def make_mi_scores(x, y, discrete_features):\n",
    "    mi_scores = mutual_info_regression(x, y, discrete_features=discrete_features)\n",
    "    mi_scores = pd.Series(mi_scores, name=\"MI Scores\", index=x.columns)\n",
    "    mi_scores = mi_scores.sort_values(ascending=False)\n",
    "    return mi_scores\n",
    "\n",
    "mi_scores = make_mi_scores(x, y, discrete_features)\n",
    "mi_scores[::1]"
   ]
  },
  {
   "cell_type": "code",
   "execution_count": 22,
   "id": "20327131",
   "metadata": {},
   "outputs": [
    {
     "data": {
      "image/png": "[encoded data removed]",
      "text/plain": [
       "<Figure size 600x600 with 1 Axes>"
      ]
     },
     "metadata": {
      "needs_background": "light"
     },
     "output_type": "display_data"
    }
   ],
   "source": [
    "def plot_mi_scores(scores):\n",
    "    scores = scores.sort_values(ascending=True)\n",
    "    width = np.arange(len(scores))\n",
    "    ticks = list(scores.index)\n",
    "    plt.barh(width, scores)\n",
    "    plt.yticks(width, ticks)\n",
    "    plt.title(\"Mutual Information Scores\")\n",
    "\n",
    "\n",
    "plt.figure(dpi=100, figsize=(6,6))\n",
    "plot_mi_scores(mi_scores)"
   ]
  },
  {
   "cell_type": "code",
   "execution_count": 23,
   "id": "cad57ebc",
   "metadata": {},
   "outputs": [
    {
     "name": "stderr",
     "output_type": "stream",
     "text": [
      "C:\\Users\\ANKIT\\anaconda3\\lib\\site-packages\\seaborn\\_decorators.py:36: FutureWarning: Pass the following variable as a keyword arg: x. From version 0.12, the only valid positional argument will be `data`, and passing other arguments without an explicit keyword will result in an error or misinterpretation.\n",
      "  warnings.warn(\n"
     ]
    },
    {
     "name": "stdout",
     "output_type": "stream",
     "text": [
      "1    13632\n",
      "2     8889\n",
      "3     4646\n",
      "5     1323\n",
      "4     1135\n",
      "Name: virality, dtype: int64\n"
     ]
    },
    {
     "data": {
      "image/png": "[encoded data removed]",
      "text/plain": [
       "<Figure size 432x288 with 1 Axes>"
      ]
     },
     "metadata": {
      "needs_background": "light"
     },
     "output_type": "display_data"
    }
   ],
   "source": [
    "z = df1_tweets[\"virality\"]\n",
    "\n",
    "sns.countplot(z)\n",
    "\n",
    "\n",
    "target_temp = df1_tweets.virality .value_counts()\n",
    "\n",
    "print(target_temp)"
   ]
  },
  {
   "cell_type": "code",
   "execution_count": 24,
   "id": "860bc383",
   "metadata": {},
   "outputs": [
    {
     "name": "stdout",
     "output_type": "stream",
     "text": [
      "Percentage of tweets rated 5: 4.465822784810126\n",
      "Percentage of tweets rated 4: 3.831223628691983\n",
      "Percentage of tweets rated 3: 15.682700421940929\n",
      "Percentage of tweets rated 2: 30.00506329113924\n",
      "Percentage of tweets rated 1: 46.01518987341772\n"
     ]
    }
   ],
   "source": [
    "print(\"Percentage of tweets rated 5: \"+str(y.where(y==5).count()*100/29625))\n",
    "print(\"Percentage of tweets rated 4: \"+str(y.where(y==4).count()*100/29625))\n",
    "print(\"Percentage of tweets rated 3: \" +str(y.where(y==3).count()*100/29625))\n",
    "print(\"Percentage of tweets rated 2: \"+str(y.where(y==2).count()*100/29625))\n",
    "print(\"Percentage of tweets rated 1: \"+str(y.where(y==1).count()*100/29625))"
   ]
  },
  {
   "cell_type": "code",
   "execution_count": 25,
   "id": "a331c2f6",
   "metadata": {},
   "outputs": [
    {
     "name": "stdout",
     "output_type": "stream",
     "text": [
      "[10  4 54 42 32 34 43 16 37  6 39  3 22 11 45 31 23  0  1 49 33 28 19 48\n",
      " 27  5 47 38 46 18 17 26 40 50 52 15  2 12  8 30 53 14 35 41 44 20 24 13\n",
      " 21 55  7 25]\n"
     ]
    },
    {
     "name": "stderr",
     "output_type": "stream",
     "text": [
      "C:\\Users\\ANKIT\\anaconda3\\lib\\site-packages\\seaborn\\_decorators.py:36: FutureWarning: Pass the following variables as keyword args: x, y. From version 0.12, the only valid positional argument will be `data`, and passing other arguments without an explicit keyword will result in an error or misinterpretation.\n",
      "  warnings.warn(\n"
     ]
    },
    {
     "data": {
      "text/plain": [
       "<AxesSubplot:xlabel='tweet_user_id', ylabel='virality'>"
      ]
     },
     "execution_count": 25,
     "metadata": {},
     "output_type": "execute_result"
    },
    {
     "data": {
      "image/png": "[encoded data removed]",
      "text/plain": [
       "<Figure size 936x504 with 1 Axes>"
      ]
     },
     "metadata": {
      "needs_background": "light"
     },
     "output_type": "display_data"
    }
   ],
   "source": [
    "print(df1_tweets[\"tweet_user_id\"].unique())\n",
    "plt.figure(figsize=(13,7))\n",
    "sns.barplot(df1_tweets[\"tweet_user_id\"],y)"
   ]
  },
  {
   "cell_type": "code",
   "execution_count": 26,
   "id": "5668cd38",
   "metadata": {},
   "outputs": [
    {
     "data": {
      "image/png": "[encoded data removed]",
      "text/plain": [
       "<Figure size 1080x1080 with 5 Axes>"
      ]
     },
     "metadata": {
      "needs_background": "light"
     },
     "output_type": "display_data"
    }
   ],
   "source": [
    "plt.figure(figsize=(15, 15))\n",
    "\n",
    "for i, column in enumerate(categorical_val, 1):\n",
    "    plt.subplot(3, 3, i)\n",
    "    df1_tweets[df1_tweets[\"virality\"] == 1][column].hist(bins=40, color='red', label='ads = *', alpha=1,width=0.2)\n",
    "    df1_tweets[df1_tweets[\"virality\"] == 2][column].hist(bins=40, color='blue', label='ads = **', alpha=1,width=0.2)\n",
    "    df1_tweets[df1_tweets[\"virality\"] == 3][column].hist(bins=40, color='green', label='ads = ***', alpha=1,width=0.2)\n",
    "    df1_tweets[df1_tweets[\"virality\"] == 4][column].hist(bins=40, color='yellow', label='ads = ****', alpha=1,width=0.2)\n",
    "    df1_tweets[df1_tweets[\"virality\"] == 5][column].hist(bins=40, color='violet', label='ads = *****', alpha=1,width=0.2)\n",
    "    plt.legend()\n",
    "    plt.xlabel(column)"
   ]
  },
  {
   "cell_type": "code",
   "execution_count": 27,
   "id": "018cd5ab",
   "metadata": {},
   "outputs": [
    {
     "name": "stdout",
     "output_type": "stream",
     "text": [
      "[\"['36', '36', '36', '36', '36', '36', '37', '37', '37', '37', '37', '37']\"\n",
      " \"['43', '78', '79', '80', '80', '89', '98', '99', '100']\"\n",
      " \"['79', '80', '98', '98', '98', '99', '99', '100', '100', '79', '80']\"\n",
      " ... \"['45', '45', '78', '79', '79', '80']\"\n",
      " \"['80', '98', '99', '99', '80']\"\n",
      " \"['156', '79', '80', '80', '81', '81', '98', '99']\"]\n"
     ]
    },
    {
     "name": "stderr",
     "output_type": "stream",
     "text": [
      "C:\\Users\\ANKIT\\anaconda3\\lib\\site-packages\\seaborn\\_decorators.py:36: FutureWarning: Pass the following variables as keyword args: x, y. From version 0.12, the only valid positional argument will be `data`, and passing other arguments without an explicit keyword will result in an error or misinterpretation.\n",
      "  warnings.warn(\n"
     ]
    },
    {
     "data": {
      "text/plain": [
       "<AxesSubplot:xlabel='tweet_topic_ids', ylabel='virality'>"
      ]
     },
     "execution_count": 27,
     "metadata": {},
     "output_type": "execute_result"
    },
    {
     "data": {
      "image/png": "[encoded data removed]",
      "text/plain": [
       "<Figure size 936x504 with 1 Axes>"
      ]
     },
     "metadata": {
      "needs_background": "light"
     },
     "output_type": "display_data"
    }
   ],
   "source": [
    "print(df1_tweets[\"tweet_topic_ids\"].unique())\n",
    "plt.figure(figsize=(13,7))\n",
    "sns.barplot(df1_tweets[\"tweet_topic_ids\"],y)"
   ]
  },
  {
   "cell_type": "code",
   "execution_count": 28,
   "id": "4d61e329",
   "metadata": {},
   "outputs": [
    {
     "name": "stderr",
     "output_type": "stream",
     "text": [
      "C:\\Users\\ANKIT\\anaconda3\\lib\\site-packages\\seaborn\\distributions.py:2557: FutureWarning: `distplot` is a deprecated function and will be removed in a future version. Please adapt your code to use either `displot` (a figure-level function with similar flexibility) or `histplot` (an axes-level function for histograms).\n",
      "  warnings.warn(msg, FutureWarning)\n"
     ]
    },
    {
     "data": {
      "text/plain": [
       "<AxesSubplot:xlabel='tweet_hashtag_count', ylabel='Density'>"
      ]
     },
     "execution_count": 28,
     "metadata": {},
     "output_type": "execute_result"
    },
    {
     "data": {
      "image/png": "[encoded data removed]",
      "text/plain": [
       "<Figure size 432x288 with 1 Axes>"
      ]
     },
     "metadata": {
      "needs_background": "light"
     },
     "output_type": "display_data"
    }
   ],
   "source": [
    "sns.distplot(df1_tweets[\"tweet_hashtag_count\"])"
   ]
  },
  {
   "cell_type": "code",
   "execution_count": 29,
   "id": "9e048916",
   "metadata": {},
   "outputs": [
    {
     "data": {
      "text/plain": [
       "<AxesSubplot:xlabel='tweet_created_at_year', ylabel='Count'>"
      ]
     },
     "execution_count": 29,
     "metadata": {},
     "output_type": "execute_result"
    },
    {
     "data": {
      "image/png": "[encoded data removed]",
      "text/plain": [
       "<Figure size 432x288 with 1 Axes>"
      ]
     },
     "metadata": {
      "needs_background": "light"
     },
     "output_type": "display_data"
    }
   ],
   "source": [
    "sns.histplot(data=df1_tweets, x=\"tweet_created_at_year\", kde = True)"
   ]
  },
  {
   "cell_type": "code",
   "execution_count": 30,
   "id": "8a870f20",
   "metadata": {},
   "outputs": [
    {
     "data": {
      "text/plain": [
       "<AxesSubplot:xlabel='tweet_user_id', ylabel='Count'>"
      ]
     },
     "execution_count": 30,
     "metadata": {},
     "output_type": "execute_result"
    },
    {
     "data": {
      "image/png": "[encoded data removed]",
      "text/plain": [
       "<Figure size 1008x432 with 1 Axes>"
      ]
     },
     "metadata": {
      "needs_background": "light"
     },
     "output_type": "display_data"
    }
   ],
   "source": [
    "plt.figure(figsize=(14,6))\n",
    "sns.histplot(data=df1_tweets, x=\"tweet_user_id\", hue=\"virality\",multiple=\"stack\")"
   ]
  },
  {
   "cell_type": "code",
   "execution_count": 31,
   "id": "5d6ff921",
   "metadata": {},
   "outputs": [
    {
     "data": {
      "text/html": [
       "<div>\n",
       "<style scoped>\n",
       "    .dataframe tbody tr th:only-of-type {\n",
       "        vertical-align: middle;\n",
       "    }\n",
       "\n",
       "    .dataframe tbody tr th {\n",
       "        vertical-align: top;\n",
       "    }\n",
       "\n",
       "    .dataframe thead th {\n",
       "        text-align: right;\n",
       "    }\n",
       "</style>\n",
       "<table border=\"1\" class=\"dataframe\">\n",
       "  <thead>\n",
       "    <tr style=\"text-align: right;\">\n",
       "      <th></th>\n",
       "      <th>tweet_id</th>\n",
       "      <th>tweet_user_id</th>\n",
       "      <th>tweet_created_at_year</th>\n",
       "      <th>tweet_created_at_month</th>\n",
       "      <th>tweet_created_at_day</th>\n",
       "      <th>tweet_created_at_hour</th>\n",
       "      <th>tweet_hashtag_count</th>\n",
       "      <th>tweet_url_count</th>\n",
       "      <th>tweet_mention_count</th>\n",
       "      <th>tweet_has_attachment</th>\n",
       "      <th>tweet_attachment_class</th>\n",
       "      <th>tweet_language_id</th>\n",
       "      <th>tweet_topic_ids</th>\n",
       "      <th>virality</th>\n",
       "    </tr>\n",
       "  </thead>\n",
       "  <tbody>\n",
       "    <tr>\n",
       "      <th>0</th>\n",
       "      <td>34698</td>\n",
       "      <td>10</td>\n",
       "      <td>2015</td>\n",
       "      <td>12</td>\n",
       "      <td>5</td>\n",
       "      <td>3</td>\n",
       "      <td>2.0</td>\n",
       "      <td>1.0</td>\n",
       "      <td>0.0</td>\n",
       "      <td>0</td>\n",
       "      <td>2</td>\n",
       "      <td>0</td>\n",
       "      <td>['36', '36', '36', '36', '36', '36', '37', '37...</td>\n",
       "      <td>3</td>\n",
       "    </tr>\n",
       "    <tr>\n",
       "      <th>1</th>\n",
       "      <td>24644</td>\n",
       "      <td>4</td>\n",
       "      <td>2020</td>\n",
       "      <td>6</td>\n",
       "      <td>19</td>\n",
       "      <td>0</td>\n",
       "      <td>0.0</td>\n",
       "      <td>1.0</td>\n",
       "      <td>0.0</td>\n",
       "      <td>0</td>\n",
       "      <td>2</td>\n",
       "      <td>0</td>\n",
       "      <td>['43', '78', '79', '80', '80', '89', '98', '99...</td>\n",
       "      <td>3</td>\n",
       "    </tr>\n",
       "    <tr>\n",
       "      <th>2</th>\n",
       "      <td>36321</td>\n",
       "      <td>54</td>\n",
       "      <td>2019</td>\n",
       "      <td>6</td>\n",
       "      <td>2</td>\n",
       "      <td>15</td>\n",
       "      <td>2.0</td>\n",
       "      <td>3.0</td>\n",
       "      <td>0.0</td>\n",
       "      <td>1</td>\n",
       "      <td>0</td>\n",
       "      <td>0</td>\n",
       "      <td>['79', '80', '98', '98', '98', '99', '99', '10...</td>\n",
       "      <td>1</td>\n",
       "    </tr>\n",
       "    <tr>\n",
       "      <th>3</th>\n",
       "      <td>2629</td>\n",
       "      <td>42</td>\n",
       "      <td>2020</td>\n",
       "      <td>9</td>\n",
       "      <td>6</td>\n",
       "      <td>17</td>\n",
       "      <td>0.0</td>\n",
       "      <td>1.0</td>\n",
       "      <td>1.0</td>\n",
       "      <td>1</td>\n",
       "      <td>0</td>\n",
       "      <td>0</td>\n",
       "      <td>['43', '79', '80', '98', '99', '99', '79', '80']</td>\n",
       "      <td>2</td>\n",
       "    </tr>\n",
       "    <tr>\n",
       "      <th>4</th>\n",
       "      <td>28169</td>\n",
       "      <td>32</td>\n",
       "      <td>2020</td>\n",
       "      <td>11</td>\n",
       "      <td>4</td>\n",
       "      <td>17</td>\n",
       "      <td>2.0</td>\n",
       "      <td>1.0</td>\n",
       "      <td>0.0</td>\n",
       "      <td>1</td>\n",
       "      <td>0</td>\n",
       "      <td>0</td>\n",
       "      <td>['79', '80', '98', '99', '43', '89']</td>\n",
       "      <td>2</td>\n",
       "    </tr>\n",
       "    <tr>\n",
       "      <th>...</th>\n",
       "      <td>...</td>\n",
       "      <td>...</td>\n",
       "      <td>...</td>\n",
       "      <td>...</td>\n",
       "      <td>...</td>\n",
       "      <td>...</td>\n",
       "      <td>...</td>\n",
       "      <td>...</td>\n",
       "      <td>...</td>\n",
       "      <td>...</td>\n",
       "      <td>...</td>\n",
       "      <td>...</td>\n",
       "      <td>...</td>\n",
       "      <td>...</td>\n",
       "    </tr>\n",
       "    <tr>\n",
       "      <th>29620</th>\n",
       "      <td>24846</td>\n",
       "      <td>4</td>\n",
       "      <td>2019</td>\n",
       "      <td>8</td>\n",
       "      <td>30</td>\n",
       "      <td>17</td>\n",
       "      <td>0.0</td>\n",
       "      <td>1.0</td>\n",
       "      <td>0.0</td>\n",
       "      <td>1</td>\n",
       "      <td>0</td>\n",
       "      <td>0</td>\n",
       "      <td>['78', '79', '80', '98', '99', '100', '78', '7...</td>\n",
       "      <td>3</td>\n",
       "    </tr>\n",
       "    <tr>\n",
       "      <th>29621</th>\n",
       "      <td>7320</td>\n",
       "      <td>21</td>\n",
       "      <td>2018</td>\n",
       "      <td>12</td>\n",
       "      <td>21</td>\n",
       "      <td>13</td>\n",
       "      <td>2.0</td>\n",
       "      <td>1.0</td>\n",
       "      <td>0.0</td>\n",
       "      <td>1</td>\n",
       "      <td>0</td>\n",
       "      <td>0</td>\n",
       "      <td>['98', '99', '100']</td>\n",
       "      <td>2</td>\n",
       "    </tr>\n",
       "    <tr>\n",
       "      <th>29622</th>\n",
       "      <td>7447</td>\n",
       "      <td>21</td>\n",
       "      <td>2018</td>\n",
       "      <td>9</td>\n",
       "      <td>29</td>\n",
       "      <td>18</td>\n",
       "      <td>0.0</td>\n",
       "      <td>1.0</td>\n",
       "      <td>0.0</td>\n",
       "      <td>1</td>\n",
       "      <td>0</td>\n",
       "      <td>0</td>\n",
       "      <td>['98', '99', '100']</td>\n",
       "      <td>2</td>\n",
       "    </tr>\n",
       "    <tr>\n",
       "      <th>29623</th>\n",
       "      <td>26737</td>\n",
       "      <td>41</td>\n",
       "      <td>2017</td>\n",
       "      <td>2</td>\n",
       "      <td>5</td>\n",
       "      <td>16</td>\n",
       "      <td>0.0</td>\n",
       "      <td>2.0</td>\n",
       "      <td>0.0</td>\n",
       "      <td>1</td>\n",
       "      <td>0</td>\n",
       "      <td>0</td>\n",
       "      <td>['98', '99', '100']</td>\n",
       "      <td>2</td>\n",
       "    </tr>\n",
       "    <tr>\n",
       "      <th>29624</th>\n",
       "      <td>5151</td>\n",
       "      <td>1</td>\n",
       "      <td>2020</td>\n",
       "      <td>3</td>\n",
       "      <td>15</td>\n",
       "      <td>17</td>\n",
       "      <td>2.0</td>\n",
       "      <td>1.0</td>\n",
       "      <td>1.0</td>\n",
       "      <td>0</td>\n",
       "      <td>2</td>\n",
       "      <td>0</td>\n",
       "      <td>['156', '79', '80', '80', '81', '81', '98', '99']</td>\n",
       "      <td>2</td>\n",
       "    </tr>\n",
       "  </tbody>\n",
       "</table>\n",
       "<p>29625 rows × 14 columns</p>\n",
       "</div>"
      ],
      "text/plain": [
       "       tweet_id  tweet_user_id  tweet_created_at_year  tweet_created_at_month  \\\n",
       "0         34698             10                   2015                      12   \n",
       "1         24644              4                   2020                       6   \n",
       "2         36321             54                   2019                       6   \n",
       "3          2629             42                   2020                       9   \n",
       "4         28169             32                   2020                      11   \n",
       "...         ...            ...                    ...                     ...   \n",
       "29620     24846              4                   2019                       8   \n",
       "29621      7320             21                   2018                      12   \n",
       "29622      7447             21                   2018                       9   \n",
       "29623     26737             41                   2017                       2   \n",
       "29624      5151              1                   2020                       3   \n",
       "\n",
       "       tweet_created_at_day  tweet_created_at_hour  tweet_hashtag_count  \\\n",
       "0                         5                      3                  2.0   \n",
       "1                        19                      0                  0.0   \n",
       "2                         2                     15                  2.0   \n",
       "3                         6                     17                  0.0   \n",
       "4                         4                     17                  2.0   \n",
       "...                     ...                    ...                  ...   \n",
       "29620                    30                     17                  0.0   \n",
       "29621                    21                     13                  2.0   \n",
       "29622                    29                     18                  0.0   \n",
       "29623                     5                     16                  0.0   \n",
       "29624                    15                     17                  2.0   \n",
       "\n",
       "       tweet_url_count  tweet_mention_count  tweet_has_attachment  \\\n",
       "0                  1.0                  0.0                     0   \n",
       "1                  1.0                  0.0                     0   \n",
       "2                  3.0                  0.0                     1   \n",
       "3                  1.0                  1.0                     1   \n",
       "4                  1.0                  0.0                     1   \n",
       "...                ...                  ...                   ...   \n",
       "29620              1.0                  0.0                     1   \n",
       "29621              1.0                  0.0                     1   \n",
       "29622              1.0                  0.0                     1   \n",
       "29623              2.0                  0.0                     1   \n",
       "29624              1.0                  1.0                     0   \n",
       "\n",
       "       tweet_attachment_class  tweet_language_id  \\\n",
       "0                           2                  0   \n",
       "1                           2                  0   \n",
       "2                           0                  0   \n",
       "3                           0                  0   \n",
       "4                           0                  0   \n",
       "...                       ...                ...   \n",
       "29620                       0                  0   \n",
       "29621                       0                  0   \n",
       "29622                       0                  0   \n",
       "29623                       0                  0   \n",
       "29624                       2                  0   \n",
       "\n",
       "                                         tweet_topic_ids  virality  \n",
       "0      ['36', '36', '36', '36', '36', '36', '37', '37...         3  \n",
       "1      ['43', '78', '79', '80', '80', '89', '98', '99...         3  \n",
       "2      ['79', '80', '98', '98', '98', '99', '99', '10...         1  \n",
       "3       ['43', '79', '80', '98', '99', '99', '79', '80']         2  \n",
       "4                   ['79', '80', '98', '99', '43', '89']         2  \n",
       "...                                                  ...       ...  \n",
       "29620  ['78', '79', '80', '98', '99', '100', '78', '7...         3  \n",
       "29621                                ['98', '99', '100']         2  \n",
       "29622                                ['98', '99', '100']         2  \n",
       "29623                                ['98', '99', '100']         2  \n",
       "29624  ['156', '79', '80', '80', '81', '81', '98', '99']         2  \n",
       "\n",
       "[29625 rows x 14 columns]"
      ]
     },
     "execution_count": 31,
     "metadata": {},
     "output_type": "execute_result"
    }
   ],
   "source": [
    "df1_tweets"
   ]
  },
  {
   "cell_type": "code",
   "execution_count": 32,
   "id": "d88f0989",
   "metadata": {},
   "outputs": [
    {
     "data": {
      "text/plain": [
       "<AxesSubplot:xlabel='tweet_created_at_day', ylabel='Count'>"
      ]
     },
     "execution_count": 32,
     "metadata": {},
     "output_type": "execute_result"
    },
    {
     "data": {
      "image/png": "[encoded data removed]",
      "text/plain": [
       "<Figure size 1008x432 with 1 Axes>"
      ]
     },
     "metadata": {
      "needs_background": "light"
     },
     "output_type": "display_data"
    }
   ],
   "source": [
    "plt.figure(figsize=(14,6))\n",
    "sns.histplot(data=df1_tweets, x=\"tweet_created_at_day\", hue=\"virality\",multiple=\"stack\")"
   ]
  },
  {
   "cell_type": "markdown",
   "id": "0b990ae6",
   "metadata": {},
   "source": [
    "### Rating 1 tweets ar made at daily basis but virality is not so much but 5 star are less nut go much viral"
   ]
  },
  {
   "cell_type": "code",
   "execution_count": 33,
   "id": "039a3873",
   "metadata": {},
   "outputs": [
    {
     "data": {
      "text/plain": [
       "<AxesSubplot:xlabel='tweet_created_at_hour', ylabel='Count'>"
      ]
     },
     "execution_count": 33,
     "metadata": {},
     "output_type": "execute_result"
    },
    {
     "data": {
      "image/png": "[encoded data removed]",
      "text/plain": [
       "<Figure size 1008x432 with 1 Axes>"
      ]
     },
     "metadata": {
      "needs_background": "light"
     },
     "output_type": "display_data"
    }
   ],
   "source": [
    "plt.figure(figsize=(14,6))\n",
    "sns.histplot(data=df1_tweets, x=\"tweet_created_at_hour\", hue=\"virality\",multiple=\"stack\")"
   ]
  },
  {
   "cell_type": "markdown",
   "id": "f7596da1",
   "metadata": {},
   "source": [
    "#### At evening time tweets go viral due to most of the person goes free at evening time."
   ]
  },
  {
   "cell_type": "code",
   "execution_count": 34,
   "id": "9627444e",
   "metadata": {},
   "outputs": [
    {
     "data": {
      "text/plain": [
       "<AxesSubplot:xlabel='tweet_created_at_month', ylabel='Count'>"
      ]
     },
     "execution_count": 34,
     "metadata": {},
     "output_type": "execute_result"
    },
    {
     "data": {
      "image/png": "[encoded data removed]",
      "text/plain": [
       "<Figure size 1008x432 with 1 Axes>"
      ]
     },
     "metadata": {
      "needs_background": "light"
     },
     "output_type": "display_data"
    }
   ],
   "source": [
    "plt.figure(figsize=(14,6))\n",
    "sns.histplot(data=df1_tweets, x=\"tweet_created_at_month\", hue=\"virality\",multiple=\"stack\")"
   ]
  },
  {
   "cell_type": "markdown",
   "id": "e4791129",
   "metadata": {},
   "source": [
    "##### tweets are most viral in july , august, september but fall in october due to exam time & this shows virality main focused by students"
   ]
  },
  {
   "cell_type": "code",
   "execution_count": 35,
   "id": "7e1ecc7e",
   "metadata": {},
   "outputs": [
    {
     "data": {
      "text/plain": [
       "<AxesSubplot:xlabel='tweet_created_at_hour', ylabel='virality'>"
      ]
     },
     "execution_count": 35,
     "metadata": {},
     "output_type": "execute_result"
    },
    {
     "data": {
      "image/png": "[encoded data removed]",
      "text/plain": [
       "<Figure size 432x288 with 1 Axes>"
      ]
     },
     "metadata": {
      "needs_background": "light"
     },
     "output_type": "display_data"
    }
   ],
   "source": [
    "sns.histplot(\n",
    "    df1_tweets, x=\"tweet_created_at_hour\", y=\"virality\", hue=\"virality\", legend=False\n",
    ")"
   ]
  },
  {
   "cell_type": "markdown",
   "id": "f0a4755a",
   "metadata": {},
   "source": [
    "## Train Test Split"
   ]
  },
  {
   "cell_type": "code",
   "execution_count": 36,
   "id": "61d25650",
   "metadata": {},
   "outputs": [],
   "source": [
    "from sklearn.model_selection import train_test_split\n",
    "X_train,X_test,Y_train,Y_test = train_test_split(x,y,test_size=0.30,random_state=0)"
   ]
  },
  {
   "cell_type": "code",
   "execution_count": 37,
   "id": "e4c70008",
   "metadata": {},
   "outputs": [
    {
     "data": {
      "text/plain": [
       "(20737, 13)"
      ]
     },
     "execution_count": 37,
     "metadata": {},
     "output_type": "execute_result"
    }
   ],
   "source": [
    "X_train.shape"
   ]
  },
  {
   "cell_type": "code",
   "execution_count": 38,
   "id": "3038efbc",
   "metadata": {},
   "outputs": [
    {
     "data": {
      "text/plain": [
       "(8888, 13)"
      ]
     },
     "execution_count": 38,
     "metadata": {},
     "output_type": "execute_result"
    }
   ],
   "source": [
    "X_test.shape"
   ]
  },
  {
   "cell_type": "markdown",
   "id": "a1f6eb43",
   "metadata": {},
   "source": [
    "## Model Fitting"
   ]
  },
  {
   "cell_type": "code",
   "execution_count": 39,
   "id": "d7dfeb25",
   "metadata": {},
   "outputs": [],
   "source": [
    "from sklearn.metrics import accuracy_score"
   ]
  },
  {
   "cell_type": "markdown",
   "id": "9225eace",
   "metadata": {},
   "source": [
    "## Logistic Regression"
   ]
  },
  {
   "cell_type": "code",
   "execution_count": 40,
   "id": "497004d6",
   "metadata": {},
   "outputs": [
    {
     "name": "stderr",
     "output_type": "stream",
     "text": [
      "C:\\Users\\ANKIT\\anaconda3\\lib\\site-packages\\sklearn\\linear_model\\_logistic.py:763: ConvergenceWarning: lbfgs failed to converge (status=1):\n",
      "STOP: TOTAL NO. of ITERATIONS REACHED LIMIT.\n",
      "\n",
      "Increase the number of iterations (max_iter) or scale the data as shown in:\n",
      "    https://scikit-learn.org/stable/modules/preprocessing.html\n",
      "Please also refer to the documentation for alternative solver options:\n",
      "    https://scikit-learn.org/stable/modules/linear_model.html#logistic-regression\n",
      "  n_iter_i = _check_optimize_result(\n"
     ]
    }
   ],
   "source": [
    "from sklearn.linear_model import LogisticRegression\n",
    "\n",
    "lr = LogisticRegression()\n",
    "\n",
    "lr.fit(X_train,Y_train)\n",
    "\n",
    "Y_pred_lr = lr.predict(X_test)"
   ]
  },
  {
   "cell_type": "code",
   "execution_count": 41,
   "id": "c383a926",
   "metadata": {},
   "outputs": [
    {
     "data": {
      "text/plain": [
       "(8888,)"
      ]
     },
     "execution_count": 41,
     "metadata": {},
     "output_type": "execute_result"
    }
   ],
   "source": [
    "Y_pred_lr.shape"
   ]
  },
  {
   "cell_type": "code",
   "execution_count": 42,
   "id": "39e50642",
   "metadata": {},
   "outputs": [
    {
     "name": "stdout",
     "output_type": "stream",
     "text": [
      "The accuracy score achieved using Logistic Regression is: 45.44 %\n"
     ]
    }
   ],
   "source": [
    "score_lr = round(accuracy_score(Y_pred_lr,Y_test)*100,2)\n",
    "\n",
    "print(\"The accuracy score achieved using Logistic Regression is: \"+str(score_lr)+\" %\")"
   ]
  },
  {
   "cell_type": "markdown",
   "id": "9d020a7e",
   "metadata": {},
   "source": [
    "## Naive Bayes"
   ]
  },
  {
   "cell_type": "code",
   "execution_count": 43,
   "id": "c574df9d",
   "metadata": {},
   "outputs": [],
   "source": [
    "from sklearn.naive_bayes import GaussianNB\n",
    "\n",
    "nb = GaussianNB()\n",
    "\n",
    "nb.fit(X_train,Y_train)\n",
    "\n",
    "Y_pred_nb = nb.predict(X_test)"
   ]
  },
  {
   "cell_type": "code",
   "execution_count": 44,
   "id": "d8ca4eeb",
   "metadata": {},
   "outputs": [
    {
     "data": {
      "text/plain": [
       "(8888,)"
      ]
     },
     "execution_count": 44,
     "metadata": {},
     "output_type": "execute_result"
    }
   ],
   "source": [
    "Y_pred_nb.shape"
   ]
  },
  {
   "cell_type": "code",
   "execution_count": 45,
   "id": "86afe737",
   "metadata": {},
   "outputs": [
    {
     "name": "stdout",
     "output_type": "stream",
     "text": [
      "The accuracy score achieved using Naive Bayes is: 46.28 %\n"
     ]
    }
   ],
   "source": [
    "score_nb = round(accuracy_score(Y_pred_nb,Y_test)*100,2)\n",
    "\n",
    "print(\"The accuracy score achieved using Naive Bayes is: \"+str(score_nb)+\" %\")"
   ]
  },
  {
   "cell_type": "code",
   "execution_count": 46,
   "id": "66f729b1",
   "metadata": {},
   "outputs": [
    {
     "name": "stdout",
     "output_type": "stream",
     "text": [
      "[20:22:03] WARNING: ..\\src\\learner.cc:1095: Starting in XGBoost 1.3.0, the default evaluation metric used with the objective 'multi:softprob' was changed from 'merror' to 'mlogloss'. Explicitly set eval_metric if you'd like to restore the old behavior.\n"
     ]
    },
    {
     "name": "stderr",
     "output_type": "stream",
     "text": [
      "C:\\Users\\ANKIT\\anaconda3\\lib\\site-packages\\xgboost\\sklearn.py:1146: UserWarning: The use of label encoder in XGBClassifier is deprecated and will be removed in a future release. To remove this warning, do the following: 1) Pass option use_label_encoder=False when constructing XGBClassifier object; and 2) Encode your labels (y) as integers starting with 0, i.e. 0, 1, 2, ..., [num_class - 1].\n",
      "  warnings.warn(label_encoder_deprecation_msg, UserWarning)\n",
      "C:\\Users\\ANKIT\\anaconda3\\lib\\site-packages\\xgboost\\data.py:112: UserWarning: Use subset (sliced data) of np.ndarray is not recommended because it will generate extra copies and increase memory consumption\n",
      "  warnings.warn(\n"
     ]
    }
   ],
   "source": [
    "import xgboost as xgb\n",
    "\n",
    "xgb_model = xgb.XGBClassifier(objective=\"binary:logistic\", random_state=42)\n",
    "xgb_model.fit(X_train, Y_train)\n",
    "\n",
    "Y_pred_xgb = xgb_model.predict(X_test)"
   ]
  },
  {
   "cell_type": "code",
   "execution_count": 47,
   "id": "6ef80f5f",
   "metadata": {},
   "outputs": [
    {
     "name": "stdout",
     "output_type": "stream",
     "text": [
      "The accuracy score achieved using XGBoost is: 66.93 %\n"
     ]
    }
   ],
   "source": [
    "score_xgb = round(accuracy_score(Y_pred_xgb,Y_test)*100,2)\n",
    "\n",
    "print(\"The accuracy score achieved using XGBoost is: \"+str(score_xgb)+\" %\")"
   ]
  },
  {
   "cell_type": "markdown",
   "id": "42716154",
   "metadata": {},
   "source": [
    "## K Nearest Neighbors"
   ]
  },
  {
   "cell_type": "code",
   "execution_count": 48,
   "id": "02266790",
   "metadata": {},
   "outputs": [],
   "source": [
    "from sklearn.neighbors import KNeighborsClassifier\n",
    "\n",
    "knn = KNeighborsClassifier(n_neighbors=7)\n",
    "knn.fit(X_train,Y_train)\n",
    "Y_pred_knn=knn.predict(X_test)"
   ]
  },
  {
   "cell_type": "code",
   "execution_count": 49,
   "id": "2779525f",
   "metadata": {},
   "outputs": [
    {
     "name": "stdout",
     "output_type": "stream",
     "text": [
      "The accuracy score achieved using KNN is: 62.62 %\n"
     ]
    }
   ],
   "source": [
    "score_knn = round(accuracy_score(Y_pred_knn,Y_test)*100,2)\n",
    "\n",
    "print(\"The accuracy score achieved using KNN is: \"+str(score_knn)+\" %\")"
   ]
  },
  {
   "cell_type": "markdown",
   "id": "a907b662",
   "metadata": {},
   "source": [
    "## Decision Tree"
   ]
  },
  {
   "cell_type": "code",
   "execution_count": 50,
   "id": "4d092bdd",
   "metadata": {},
   "outputs": [],
   "source": [
    "from sklearn.tree import DecisionTreeClassifier\n",
    "\n",
    "max_accuracy = 0\n",
    "\n",
    "\n",
    "for x in range(200):\n",
    "    dt = DecisionTreeClassifier(random_state=x)\n",
    "    dt.fit(X_train,Y_train)\n",
    "    Y_pred_dt = dt.predict(X_test)\n",
    "    current_accuracy = round(accuracy_score(Y_pred_dt,Y_test)*100,2)\n",
    "    if(current_accuracy>max_accuracy):\n",
    "        max_accuracy = current_accuracy\n",
    "        best_x = x\n",
    "\n",
    "\n",
    "dt = DecisionTreeClassifier(random_state=best_x)\n",
    "dt.fit(X_train,Y_train)\n",
    "Y_pred_dt = dt.predict(X_test)"
   ]
  },
  {
   "cell_type": "code",
   "execution_count": 51,
   "id": "29801bfb",
   "metadata": {},
   "outputs": [
    {
     "name": "stdout",
     "output_type": "stream",
     "text": [
      "The accuracy score achieved using Decision Tree is: 58.61 %\n"
     ]
    }
   ],
   "source": [
    "score_dt = round(accuracy_score(Y_pred_dt,Y_test)*100,2)\n",
    "\n",
    "print(\"The accuracy score achieved using Decision Tree is: \"+str(score_dt)+\" %\")"
   ]
  },
  {
   "cell_type": "code",
   "execution_count": 52,
   "id": "8a2f7622",
   "metadata": {},
   "outputs": [],
   "source": [
    "from sklearn.ensemble import RandomForestClassifier\n",
    "from sklearn.metrics import classification_report, confusion_matrix, accuracy_score\n",
    "from sklearn.metrics import roc_auc_score"
   ]
  },
  {
   "cell_type": "code",
   "execution_count": 53,
   "id": "5dc8058e",
   "metadata": {},
   "outputs": [
    {
     "data": {
      "text/plain": [
       "RandomForestClassifier()"
      ]
     },
     "execution_count": 53,
     "metadata": {},
     "output_type": "execute_result"
    }
   ],
   "source": [
    "classifier = RandomForestClassifier()\n",
    "classifier.fit(X_train, Y_train)"
   ]
  },
  {
   "cell_type": "code",
   "execution_count": 54,
   "id": "ffd45f90",
   "metadata": {},
   "outputs": [
    {
     "name": "stdout",
     "output_type": "stream",
     "text": [
      "Classification Report:\n",
      "              precision    recall  f1-score   support\n",
      "\n",
      "           1       0.76      0.86      0.81      4039\n",
      "           2       0.57      0.55      0.56      2674\n",
      "           3       0.59      0.53      0.56      1452\n",
      "           4       0.24      0.08      0.12       363\n",
      "           5       0.54      0.43      0.48       360\n",
      "\n",
      "    accuracy                           0.66      8888\n",
      "   macro avg       0.54      0.49      0.50      8888\n",
      "weighted avg       0.64      0.66      0.65      8888\n",
      "\n",
      "Accuracy: 0.6637038703870387\n",
      "Confusion Matrix:\n",
      "[[3492  514   27    3    3]\n",
      " [ 920 1458  280    8    8]\n",
      " [ 142  435  764   58   53]\n",
      " [  42   78  143   30   70]\n",
      " [  29   61   87   28  155]]\n"
     ]
    }
   ],
   "source": [
    "y_pred = classifier.predict(X_test)\n",
    "\n",
    "print(\"Classification Report:\",)\n",
    "print (classification_report(Y_test, y_pred))\n",
    "print(\"Accuracy:\", accuracy_score(Y_test,y_pred))\n",
    "print(\"Confusion Matrix:\")\n",
    "print(confusion_matrix(Y_test, y_pred))"
   ]
  },
  {
   "cell_type": "code",
   "execution_count": 55,
   "id": "5f1eac6e",
   "metadata": {},
   "outputs": [
    {
     "name": "stdout",
     "output_type": "stream",
     "text": [
      "The accuracy score achieved using random forest is: 66.37 %\n"
     ]
    }
   ],
   "source": [
    "score_rdc = round(accuracy_score(y_pred,Y_test)*100,2)\n",
    "\n",
    "print(\"The accuracy score achieved using random forest is: \"+str(score_rdc)+\" %\")"
   ]
  },
  {
   "cell_type": "code",
   "execution_count": null,
   "id": "3279e329",
   "metadata": {},
   "outputs": [],
   "source": []
  },
  {
   "cell_type": "markdown",
   "id": "2cf75d73",
   "metadata": {},
   "source": [
    "## Final Accuracy of all Models that which Model is best fitted"
   ]
  },
  {
   "cell_type": "code",
   "execution_count": 56,
   "id": "12470476",
   "metadata": {},
   "outputs": [
    {
     "name": "stdout",
     "output_type": "stream",
     "text": [
      "The accuracy score achieved using Logistic Regression is: 45.44 %\n",
      "The accuracy score achieved using Naive Bayes is: 46.28 %\n",
      "The accuracy score achieved using K-Nearest Neighbors is: 62.62 %\n",
      "The accuracy score achieved using Decision Tree is: 58.61 %\n",
      "The accuracy score achieved using XGBoost is: 66.93 %\n"
     ]
    }
   ],
   "source": [
    "scores = [score_lr,score_nb,score_knn,score_dt,score_xgb]\n",
    "algorithms = [\"Logistic Regression\",\"Naive Bayes\",\"K-Nearest Neighbors\",\"Decision Tree\",\"XGBoost\"]    \n",
    "\n",
    "for i in range(len(algorithms)):\n",
    "    print(\"The accuracy score achieved using \"+algorithms[i]+\" is: \"+str(scores[i])+\" %\")"
   ]
  },
  {
   "cell_type": "code",
   "execution_count": 57,
   "id": "631f8026",
   "metadata": {},
   "outputs": [
    {
     "name": "stderr",
     "output_type": "stream",
     "text": [
      "C:\\Users\\ANKIT\\anaconda3\\lib\\site-packages\\seaborn\\_decorators.py:36: FutureWarning: Pass the following variables as keyword args: x, y. From version 0.12, the only valid positional argument will be `data`, and passing other arguments without an explicit keyword will result in an error or misinterpretation.\n",
      "  warnings.warn(\n"
     ]
    },
    {
     "data": {
      "text/plain": [
       "<AxesSubplot:xlabel='Algorithms', ylabel='Accuracy score'>"
      ]
     },
     "execution_count": 57,
     "metadata": {},
     "output_type": "execute_result"
    },
    {
     "data": {
      "image/png": "[encoded data removed]",
      "text/plain": [
       "<Figure size 576x432 with 1 Axes>"
      ]
     },
     "metadata": {},
     "output_type": "display_data"
    }
   ],
   "source": [
    "sns.set(rc={'figure.figsize':(8,6)})\n",
    "plt.xlabel(\"Algorithms\")\n",
    "plt.ylabel(\"Accuracy score\")\n",
    "\n",
    "sns.barplot(algorithms,scores)"
   ]
  },
  {
   "cell_type": "code",
   "execution_count": 81,
   "id": "009418aa",
   "metadata": {},
   "outputs": [
    {
     "data": {
      "text/html": [
       "<div>\n",
       "<style scoped>\n",
       "    .dataframe tbody tr th:only-of-type {\n",
       "        vertical-align: middle;\n",
       "    }\n",
       "\n",
       "    .dataframe tbody tr th {\n",
       "        vertical-align: top;\n",
       "    }\n",
       "\n",
       "    .dataframe thead th {\n",
       "        text-align: right;\n",
       "    }\n",
       "</style>\n",
       "<table border=\"1\" class=\"dataframe\">\n",
       "  <thead>\n",
       "    <tr style=\"text-align: right;\">\n",
       "      <th></th>\n",
       "      <th>tweet_id</th>\n",
       "      <th>tweet_user_id</th>\n",
       "      <th>tweet_created_at_year</th>\n",
       "      <th>tweet_created_at_month</th>\n",
       "      <th>tweet_created_at_day</th>\n",
       "      <th>tweet_created_at_hour</th>\n",
       "      <th>tweet_hashtag_count</th>\n",
       "      <th>tweet_url_count</th>\n",
       "      <th>tweet_mention_count</th>\n",
       "      <th>tweet_has_attachment</th>\n",
       "      <th>tweet_attachment_class</th>\n",
       "      <th>tweet_language_id</th>\n",
       "      <th>tweet_topic_ids</th>\n",
       "    </tr>\n",
       "  </thead>\n",
       "  <tbody>\n",
       "    <tr>\n",
       "      <th>0</th>\n",
       "      <td>6238</td>\n",
       "      <td>13</td>\n",
       "      <td>2020</td>\n",
       "      <td>7</td>\n",
       "      <td>26</td>\n",
       "      <td>10</td>\n",
       "      <td>5.0</td>\n",
       "      <td>2.0</td>\n",
       "      <td>0.0</td>\n",
       "      <td>True</td>\n",
       "      <td>A</td>\n",
       "      <td>0</td>\n",
       "      <td>['98', '99', '99', '99', '99', '78', '79', '80']</td>\n",
       "    </tr>\n",
       "    <tr>\n",
       "      <th>1</th>\n",
       "      <td>37458</td>\n",
       "      <td>14</td>\n",
       "      <td>2018</td>\n",
       "      <td>1</td>\n",
       "      <td>15</td>\n",
       "      <td>18</td>\n",
       "      <td>0.0</td>\n",
       "      <td>0.0</td>\n",
       "      <td>1.0</td>\n",
       "      <td>False</td>\n",
       "      <td>C</td>\n",
       "      <td>0</td>\n",
       "      <td>['78', '79', '80', '98']</td>\n",
       "    </tr>\n",
       "    <tr>\n",
       "      <th>2</th>\n",
       "      <td>23968</td>\n",
       "      <td>50</td>\n",
       "      <td>2019</td>\n",
       "      <td>2</td>\n",
       "      <td>25</td>\n",
       "      <td>20</td>\n",
       "      <td>0.0</td>\n",
       "      <td>1.0</td>\n",
       "      <td>0.0</td>\n",
       "      <td>False</td>\n",
       "      <td>C</td>\n",
       "      <td>0</td>\n",
       "      <td>['78', '79', '80']</td>\n",
       "    </tr>\n",
       "    <tr>\n",
       "      <th>3</th>\n",
       "      <td>24137</td>\n",
       "      <td>50</td>\n",
       "      <td>2018</td>\n",
       "      <td>12</td>\n",
       "      <td>8</td>\n",
       "      <td>21</td>\n",
       "      <td>0.0</td>\n",
       "      <td>1.0</td>\n",
       "      <td>1.0</td>\n",
       "      <td>False</td>\n",
       "      <td>C</td>\n",
       "      <td>0</td>\n",
       "      <td>['78', '79', '80']</td>\n",
       "    </tr>\n",
       "    <tr>\n",
       "      <th>4</th>\n",
       "      <td>8064</td>\n",
       "      <td>30</td>\n",
       "      <td>2020</td>\n",
       "      <td>9</td>\n",
       "      <td>29</td>\n",
       "      <td>16</td>\n",
       "      <td>2.0</td>\n",
       "      <td>2.0</td>\n",
       "      <td>0.0</td>\n",
       "      <td>True</td>\n",
       "      <td>A</td>\n",
       "      <td>0</td>\n",
       "      <td>['78', '79', '79', '80', '98', '99']</td>\n",
       "    </tr>\n",
       "    <tr>\n",
       "      <th>...</th>\n",
       "      <td>...</td>\n",
       "      <td>...</td>\n",
       "      <td>...</td>\n",
       "      <td>...</td>\n",
       "      <td>...</td>\n",
       "      <td>...</td>\n",
       "      <td>...</td>\n",
       "      <td>...</td>\n",
       "      <td>...</td>\n",
       "      <td>...</td>\n",
       "      <td>...</td>\n",
       "      <td>...</td>\n",
       "      <td>...</td>\n",
       "    </tr>\n",
       "    <tr>\n",
       "      <th>12692</th>\n",
       "      <td>2418</td>\n",
       "      <td>37</td>\n",
       "      <td>2016</td>\n",
       "      <td>3</td>\n",
       "      <td>21</td>\n",
       "      <td>18</td>\n",
       "      <td>1.0</td>\n",
       "      <td>0.0</td>\n",
       "      <td>1.0</td>\n",
       "      <td>False</td>\n",
       "      <td>C</td>\n",
       "      <td>0</td>\n",
       "      <td>NaN</td>\n",
       "    </tr>\n",
       "    <tr>\n",
       "      <th>12693</th>\n",
       "      <td>40872</td>\n",
       "      <td>12</td>\n",
       "      <td>2020</td>\n",
       "      <td>2</td>\n",
       "      <td>29</td>\n",
       "      <td>19</td>\n",
       "      <td>0.0</td>\n",
       "      <td>1.0</td>\n",
       "      <td>0.0</td>\n",
       "      <td>False</td>\n",
       "      <td>C</td>\n",
       "      <td>0</td>\n",
       "      <td>['78', '79', '80']</td>\n",
       "    </tr>\n",
       "    <tr>\n",
       "      <th>12694</th>\n",
       "      <td>29847</td>\n",
       "      <td>38</td>\n",
       "      <td>2020</td>\n",
       "      <td>12</td>\n",
       "      <td>2</td>\n",
       "      <td>21</td>\n",
       "      <td>4.0</td>\n",
       "      <td>1.0</td>\n",
       "      <td>0.0</td>\n",
       "      <td>False</td>\n",
       "      <td>C</td>\n",
       "      <td>0</td>\n",
       "      <td>['79', '80', '98', '99']</td>\n",
       "    </tr>\n",
       "    <tr>\n",
       "      <th>12695</th>\n",
       "      <td>2939</td>\n",
       "      <td>42</td>\n",
       "      <td>2019</td>\n",
       "      <td>8</td>\n",
       "      <td>24</td>\n",
       "      <td>16</td>\n",
       "      <td>3.0</td>\n",
       "      <td>1.0</td>\n",
       "      <td>3.0</td>\n",
       "      <td>True</td>\n",
       "      <td>A</td>\n",
       "      <td>0</td>\n",
       "      <td>['80', '98', '99', '100', '43', '43', '79', '8...</td>\n",
       "    </tr>\n",
       "    <tr>\n",
       "      <th>12696</th>\n",
       "      <td>28838</td>\n",
       "      <td>32</td>\n",
       "      <td>2019</td>\n",
       "      <td>4</td>\n",
       "      <td>27</td>\n",
       "      <td>16</td>\n",
       "      <td>3.0</td>\n",
       "      <td>2.0</td>\n",
       "      <td>0.0</td>\n",
       "      <td>True</td>\n",
       "      <td>A</td>\n",
       "      <td>0</td>\n",
       "      <td>['43', '79', '80', '89', '98', '99', '79', '80']</td>\n",
       "    </tr>\n",
       "  </tbody>\n",
       "</table>\n",
       "<p>12697 rows × 13 columns</p>\n",
       "</div>"
      ],
      "text/plain": [
       "       tweet_id  tweet_user_id  tweet_created_at_year  tweet_created_at_month  \\\n",
       "0          6238             13                   2020                       7   \n",
       "1         37458             14                   2018                       1   \n",
       "2         23968             50                   2019                       2   \n",
       "3         24137             50                   2018                      12   \n",
       "4          8064             30                   2020                       9   \n",
       "...         ...            ...                    ...                     ...   \n",
       "12692      2418             37                   2016                       3   \n",
       "12693     40872             12                   2020                       2   \n",
       "12694     29847             38                   2020                      12   \n",
       "12695      2939             42                   2019                       8   \n",
       "12696     28838             32                   2019                       4   \n",
       "\n",
       "       tweet_created_at_day  tweet_created_at_hour  tweet_hashtag_count  \\\n",
       "0                        26                     10                  5.0   \n",
       "1                        15                     18                  0.0   \n",
       "2                        25                     20                  0.0   \n",
       "3                         8                     21                  0.0   \n",
       "4                        29                     16                  2.0   \n",
       "...                     ...                    ...                  ...   \n",
       "12692                    21                     18                  1.0   \n",
       "12693                    29                     19                  0.0   \n",
       "12694                     2                     21                  4.0   \n",
       "12695                    24                     16                  3.0   \n",
       "12696                    27                     16                  3.0   \n",
       "\n",
       "       tweet_url_count  tweet_mention_count  tweet_has_attachment  \\\n",
       "0                  2.0                  0.0                  True   \n",
       "1                  0.0                  1.0                 False   \n",
       "2                  1.0                  0.0                 False   \n",
       "3                  1.0                  1.0                 False   \n",
       "4                  2.0                  0.0                  True   \n",
       "...                ...                  ...                   ...   \n",
       "12692              0.0                  1.0                 False   \n",
       "12693              1.0                  0.0                 False   \n",
       "12694              1.0                  0.0                 False   \n",
       "12695              1.0                  3.0                  True   \n",
       "12696              2.0                  0.0                  True   \n",
       "\n",
       "      tweet_attachment_class  tweet_language_id  \\\n",
       "0                          A                  0   \n",
       "1                          C                  0   \n",
       "2                          C                  0   \n",
       "3                          C                  0   \n",
       "4                          A                  0   \n",
       "...                      ...                ...   \n",
       "12692                      C                  0   \n",
       "12693                      C                  0   \n",
       "12694                      C                  0   \n",
       "12695                      A                  0   \n",
       "12696                      A                  0   \n",
       "\n",
       "                                         tweet_topic_ids  \n",
       "0       ['98', '99', '99', '99', '99', '78', '79', '80']  \n",
       "1                               ['78', '79', '80', '98']  \n",
       "2                                     ['78', '79', '80']  \n",
       "3                                     ['78', '79', '80']  \n",
       "4                   ['78', '79', '79', '80', '98', '99']  \n",
       "...                                                  ...  \n",
       "12692                                                NaN  \n",
       "12693                                 ['78', '79', '80']  \n",
       "12694                           ['79', '80', '98', '99']  \n",
       "12695  ['80', '98', '99', '100', '43', '43', '79', '8...  \n",
       "12696   ['43', '79', '80', '89', '98', '99', '79', '80']  \n",
       "\n",
       "[12697 rows x 13 columns]"
      ]
     },
     "execution_count": 81,
     "metadata": {},
     "output_type": "execute_result"
    }
   ],
   "source": [
    "df2_tweets"
   ]
  },
  {
   "cell_type": "code",
   "execution_count": 83,
   "id": "d9b43dec",
   "metadata": {},
   "outputs": [
    {
     "data": {
      "text/html": [
       "<div>\n",
       "<style scoped>\n",
       "    .dataframe tbody tr th:only-of-type {\n",
       "        vertical-align: middle;\n",
       "    }\n",
       "\n",
       "    .dataframe tbody tr th {\n",
       "        vertical-align: top;\n",
       "    }\n",
       "\n",
       "    .dataframe thead th {\n",
       "        text-align: right;\n",
       "    }\n",
       "</style>\n",
       "<table border=\"1\" class=\"dataframe\">\n",
       "  <thead>\n",
       "    <tr style=\"text-align: right;\">\n",
       "      <th></th>\n",
       "      <th>column_name</th>\n",
       "      <th>percentage</th>\n",
       "    </tr>\n",
       "  </thead>\n",
       "  <tbody>\n",
       "    <tr>\n",
       "      <th>0</th>\n",
       "      <td>tweet_id</td>\n",
       "      <td>0.000000</td>\n",
       "    </tr>\n",
       "    <tr>\n",
       "      <th>1</th>\n",
       "      <td>tweet_user_id</td>\n",
       "      <td>0.000000</td>\n",
       "    </tr>\n",
       "    <tr>\n",
       "      <th>2</th>\n",
       "      <td>tweet_created_at_year</td>\n",
       "      <td>0.000000</td>\n",
       "    </tr>\n",
       "    <tr>\n",
       "      <th>3</th>\n",
       "      <td>tweet_created_at_month</td>\n",
       "      <td>0.000000</td>\n",
       "    </tr>\n",
       "    <tr>\n",
       "      <th>4</th>\n",
       "      <td>tweet_created_at_day</td>\n",
       "      <td>0.000000</td>\n",
       "    </tr>\n",
       "    <tr>\n",
       "      <th>5</th>\n",
       "      <td>tweet_created_at_hour</td>\n",
       "      <td>0.000000</td>\n",
       "    </tr>\n",
       "    <tr>\n",
       "      <th>6</th>\n",
       "      <td>tweet_hashtag_count</td>\n",
       "      <td>0.000000</td>\n",
       "    </tr>\n",
       "    <tr>\n",
       "      <th>7</th>\n",
       "      <td>tweet_url_count</td>\n",
       "      <td>0.000000</td>\n",
       "    </tr>\n",
       "    <tr>\n",
       "      <th>8</th>\n",
       "      <td>tweet_mention_count</td>\n",
       "      <td>0.000000</td>\n",
       "    </tr>\n",
       "    <tr>\n",
       "      <th>9</th>\n",
       "      <td>tweet_has_attachment</td>\n",
       "      <td>0.000000</td>\n",
       "    </tr>\n",
       "    <tr>\n",
       "      <th>10</th>\n",
       "      <td>tweet_attachment_class</td>\n",
       "      <td>0.000000</td>\n",
       "    </tr>\n",
       "    <tr>\n",
       "      <th>11</th>\n",
       "      <td>tweet_language_id</td>\n",
       "      <td>0.000000</td>\n",
       "    </tr>\n",
       "    <tr>\n",
       "      <th>12</th>\n",
       "      <td>tweet_topic_ids</td>\n",
       "      <td>14.192329</td>\n",
       "    </tr>\n",
       "  </tbody>\n",
       "</table>\n",
       "</div>"
      ],
      "text/plain": [
       "               column_name  percentage\n",
       "0                 tweet_id    0.000000\n",
       "1            tweet_user_id    0.000000\n",
       "2    tweet_created_at_year    0.000000\n",
       "3   tweet_created_at_month    0.000000\n",
       "4     tweet_created_at_day    0.000000\n",
       "5    tweet_created_at_hour    0.000000\n",
       "6      tweet_hashtag_count    0.000000\n",
       "7          tweet_url_count    0.000000\n",
       "8      tweet_mention_count    0.000000\n",
       "9     tweet_has_attachment    0.000000\n",
       "10  tweet_attachment_class    0.000000\n",
       "11       tweet_language_id    0.000000\n",
       "12         tweet_topic_ids   14.192329"
      ]
     },
     "execution_count": 83,
     "metadata": {},
     "output_type": "execute_result"
    }
   ],
   "source": [
    "NAN = [(c, df2_tweets[c].isnull().mean()*100) for c in df2_tweets]\n",
    "NAN = pd.DataFrame(NAN, columns=['column_name', 'percentage'])\n",
    "NAN"
   ]
  },
  {
   "cell_type": "code",
   "execution_count": 84,
   "id": "b7f808f9",
   "metadata": {},
   "outputs": [],
   "source": [
    "columns_None = ['tweet_topic_ids']\n",
    "df2_tweets[columns_None] = df2_tweets[columns_None].fillna(df2_tweets.mode().iloc[0])"
   ]
  },
  {
   "cell_type": "code",
   "execution_count": 86,
   "id": "a4a4fb95",
   "metadata": {},
   "outputs": [],
   "source": [
    "le2 = preprocessing.LabelEncoder()\n",
    "le2.fit(df2_tweets['tweet_has_attachment'])\n",
    "list(le2.classes_)\n",
    "df2_tweets['tweet_has_attachment'] = le2.transform(df2_tweets['tweet_has_attachment'])"
   ]
  },
  {
   "cell_type": "code",
   "execution_count": 87,
   "id": "3b2cde94",
   "metadata": {},
   "outputs": [],
   "source": [
    "le3 = preprocessing.LabelEncoder()\n",
    "le3.fit(df2_tweets['tweet_attachment_class'])\n",
    "list(le3.classes_)\n",
    "df2_tweets['tweet_attachment_class'] = le3.transform(df2_tweets['tweet_attachment_class'])"
   ]
  },
  {
   "cell_type": "code",
   "execution_count": 88,
   "id": "2d9d6d6b",
   "metadata": {},
   "outputs": [
    {
     "name": "stdout",
     "output_type": "stream",
     "text": [
      "<class 'pandas.core.frame.DataFrame'>\n",
      "RangeIndex: 12697 entries, 0 to 12696\n",
      "Data columns (total 13 columns):\n",
      " #   Column                  Non-Null Count  Dtype  \n",
      "---  ------                  --------------  -----  \n",
      " 0   tweet_id                12697 non-null  int64  \n",
      " 1   tweet_user_id           12697 non-null  int64  \n",
      " 2   tweet_created_at_year   12697 non-null  int64  \n",
      " 3   tweet_created_at_month  12697 non-null  int64  \n",
      " 4   tweet_created_at_day    12697 non-null  int64  \n",
      " 5   tweet_created_at_hour   12697 non-null  int64  \n",
      " 6   tweet_hashtag_count     12697 non-null  float64\n",
      " 7   tweet_url_count         12697 non-null  float64\n",
      " 8   tweet_mention_count     12697 non-null  float64\n",
      " 9   tweet_has_attachment    12697 non-null  int64  \n",
      " 10  tweet_attachment_class  12697 non-null  int32  \n",
      " 11  tweet_language_id       12697 non-null  int64  \n",
      " 12  tweet_topic_ids         12697 non-null  object \n",
      "dtypes: float64(3), int32(1), int64(8), object(1)\n",
      "memory usage: 1.2+ MB\n"
     ]
    }
   ],
   "source": [
    "df2_tweets. info()"
   ]
  },
  {
   "cell_type": "code",
   "execution_count": 89,
   "id": "f1733800",
   "metadata": {},
   "outputs": [],
   "source": [
    "from sklearn.ensemble import RandomForestRegressor"
   ]
  },
  {
   "cell_type": "code",
   "execution_count": 90,
   "id": "6588f7af",
   "metadata": {},
   "outputs": [],
   "source": [
    "for colname in df2_tweets.select_dtypes('object'):\n",
    "    df2_tweets[colname],_ = df2_tweets[colname].factorize()\n",
    "    \n",
    "discrete_features = df2_tweets.dtypes ==int"
   ]
  },
  {
   "cell_type": "code",
   "execution_count": 93,
   "id": "5f389d8d",
   "metadata": {
    "scrolled": false
   },
   "outputs": [
    {
     "data": {
      "text/html": [
       "<div>\n",
       "<style scoped>\n",
       "    .dataframe tbody tr th:only-of-type {\n",
       "        vertical-align: middle;\n",
       "    }\n",
       "\n",
       "    .dataframe tbody tr th {\n",
       "        vertical-align: top;\n",
       "    }\n",
       "\n",
       "    .dataframe thead th {\n",
       "        text-align: right;\n",
       "    }\n",
       "</style>\n",
       "<table border=\"1\" class=\"dataframe\">\n",
       "  <thead>\n",
       "    <tr style=\"text-align: right;\">\n",
       "      <th></th>\n",
       "      <th>tweet_id</th>\n",
       "      <th>tweet_user_id</th>\n",
       "      <th>tweet_created_at_year</th>\n",
       "      <th>tweet_created_at_month</th>\n",
       "      <th>tweet_created_at_day</th>\n",
       "      <th>tweet_created_at_hour</th>\n",
       "      <th>tweet_hashtag_count</th>\n",
       "      <th>tweet_url_count</th>\n",
       "      <th>tweet_mention_count</th>\n",
       "      <th>tweet_has_attachment</th>\n",
       "      <th>tweet_attachment_class</th>\n",
       "      <th>tweet_language_id</th>\n",
       "      <th>tweet_topic_ids</th>\n",
       "    </tr>\n",
       "  </thead>\n",
       "  <tbody>\n",
       "    <tr>\n",
       "      <th>0</th>\n",
       "      <td>6238</td>\n",
       "      <td>13</td>\n",
       "      <td>2020</td>\n",
       "      <td>7</td>\n",
       "      <td>26</td>\n",
       "      <td>10</td>\n",
       "      <td>5.0</td>\n",
       "      <td>2.0</td>\n",
       "      <td>0.0</td>\n",
       "      <td>1</td>\n",
       "      <td>0</td>\n",
       "      <td>0</td>\n",
       "      <td>0</td>\n",
       "    </tr>\n",
       "    <tr>\n",
       "      <th>1</th>\n",
       "      <td>37458</td>\n",
       "      <td>14</td>\n",
       "      <td>2018</td>\n",
       "      <td>1</td>\n",
       "      <td>15</td>\n",
       "      <td>18</td>\n",
       "      <td>0.0</td>\n",
       "      <td>0.0</td>\n",
       "      <td>1.0</td>\n",
       "      <td>0</td>\n",
       "      <td>2</td>\n",
       "      <td>0</td>\n",
       "      <td>1</td>\n",
       "    </tr>\n",
       "    <tr>\n",
       "      <th>2</th>\n",
       "      <td>23968</td>\n",
       "      <td>50</td>\n",
       "      <td>2019</td>\n",
       "      <td>2</td>\n",
       "      <td>25</td>\n",
       "      <td>20</td>\n",
       "      <td>0.0</td>\n",
       "      <td>1.0</td>\n",
       "      <td>0.0</td>\n",
       "      <td>0</td>\n",
       "      <td>2</td>\n",
       "      <td>0</td>\n",
       "      <td>2</td>\n",
       "    </tr>\n",
       "    <tr>\n",
       "      <th>3</th>\n",
       "      <td>24137</td>\n",
       "      <td>50</td>\n",
       "      <td>2018</td>\n",
       "      <td>12</td>\n",
       "      <td>8</td>\n",
       "      <td>21</td>\n",
       "      <td>0.0</td>\n",
       "      <td>1.0</td>\n",
       "      <td>1.0</td>\n",
       "      <td>0</td>\n",
       "      <td>2</td>\n",
       "      <td>0</td>\n",
       "      <td>2</td>\n",
       "    </tr>\n",
       "    <tr>\n",
       "      <th>4</th>\n",
       "      <td>8064</td>\n",
       "      <td>30</td>\n",
       "      <td>2020</td>\n",
       "      <td>9</td>\n",
       "      <td>29</td>\n",
       "      <td>16</td>\n",
       "      <td>2.0</td>\n",
       "      <td>2.0</td>\n",
       "      <td>0.0</td>\n",
       "      <td>1</td>\n",
       "      <td>0</td>\n",
       "      <td>0</td>\n",
       "      <td>3</td>\n",
       "    </tr>\n",
       "    <tr>\n",
       "      <th>...</th>\n",
       "      <td>...</td>\n",
       "      <td>...</td>\n",
       "      <td>...</td>\n",
       "      <td>...</td>\n",
       "      <td>...</td>\n",
       "      <td>...</td>\n",
       "      <td>...</td>\n",
       "      <td>...</td>\n",
       "      <td>...</td>\n",
       "      <td>...</td>\n",
       "      <td>...</td>\n",
       "      <td>...</td>\n",
       "      <td>...</td>\n",
       "    </tr>\n",
       "    <tr>\n",
       "      <th>12692</th>\n",
       "      <td>2418</td>\n",
       "      <td>37</td>\n",
       "      <td>2016</td>\n",
       "      <td>3</td>\n",
       "      <td>21</td>\n",
       "      <td>18</td>\n",
       "      <td>1.0</td>\n",
       "      <td>0.0</td>\n",
       "      <td>1.0</td>\n",
       "      <td>0</td>\n",
       "      <td>2</td>\n",
       "      <td>0</td>\n",
       "      <td>2</td>\n",
       "    </tr>\n",
       "    <tr>\n",
       "      <th>12693</th>\n",
       "      <td>40872</td>\n",
       "      <td>12</td>\n",
       "      <td>2020</td>\n",
       "      <td>2</td>\n",
       "      <td>29</td>\n",
       "      <td>19</td>\n",
       "      <td>0.0</td>\n",
       "      <td>1.0</td>\n",
       "      <td>0.0</td>\n",
       "      <td>0</td>\n",
       "      <td>2</td>\n",
       "      <td>0</td>\n",
       "      <td>2</td>\n",
       "    </tr>\n",
       "    <tr>\n",
       "      <th>12694</th>\n",
       "      <td>29847</td>\n",
       "      <td>38</td>\n",
       "      <td>2020</td>\n",
       "      <td>12</td>\n",
       "      <td>2</td>\n",
       "      <td>21</td>\n",
       "      <td>4.0</td>\n",
       "      <td>1.0</td>\n",
       "      <td>0.0</td>\n",
       "      <td>0</td>\n",
       "      <td>2</td>\n",
       "      <td>0</td>\n",
       "      <td>28</td>\n",
       "    </tr>\n",
       "    <tr>\n",
       "      <th>12695</th>\n",
       "      <td>2939</td>\n",
       "      <td>42</td>\n",
       "      <td>2019</td>\n",
       "      <td>8</td>\n",
       "      <td>24</td>\n",
       "      <td>16</td>\n",
       "      <td>3.0</td>\n",
       "      <td>1.0</td>\n",
       "      <td>3.0</td>\n",
       "      <td>1</td>\n",
       "      <td>0</td>\n",
       "      <td>0</td>\n",
       "      <td>2372</td>\n",
       "    </tr>\n",
       "    <tr>\n",
       "      <th>12696</th>\n",
       "      <td>28838</td>\n",
       "      <td>32</td>\n",
       "      <td>2019</td>\n",
       "      <td>4</td>\n",
       "      <td>27</td>\n",
       "      <td>16</td>\n",
       "      <td>3.0</td>\n",
       "      <td>2.0</td>\n",
       "      <td>0.0</td>\n",
       "      <td>1</td>\n",
       "      <td>0</td>\n",
       "      <td>0</td>\n",
       "      <td>162</td>\n",
       "    </tr>\n",
       "  </tbody>\n",
       "</table>\n",
       "<p>12697 rows × 13 columns</p>\n",
       "</div>"
      ],
      "text/plain": [
       "       tweet_id  tweet_user_id  tweet_created_at_year  tweet_created_at_month  \\\n",
       "0          6238             13                   2020                       7   \n",
       "1         37458             14                   2018                       1   \n",
       "2         23968             50                   2019                       2   \n",
       "3         24137             50                   2018                      12   \n",
       "4          8064             30                   2020                       9   \n",
       "...         ...            ...                    ...                     ...   \n",
       "12692      2418             37                   2016                       3   \n",
       "12693     40872             12                   2020                       2   \n",
       "12694     29847             38                   2020                      12   \n",
       "12695      2939             42                   2019                       8   \n",
       "12696     28838             32                   2019                       4   \n",
       "\n",
       "       tweet_created_at_day  tweet_created_at_hour  tweet_hashtag_count  \\\n",
       "0                        26                     10                  5.0   \n",
       "1                        15                     18                  0.0   \n",
       "2                        25                     20                  0.0   \n",
       "3                         8                     21                  0.0   \n",
       "4                        29                     16                  2.0   \n",
       "...                     ...                    ...                  ...   \n",
       "12692                    21                     18                  1.0   \n",
       "12693                    29                     19                  0.0   \n",
       "12694                     2                     21                  4.0   \n",
       "12695                    24                     16                  3.0   \n",
       "12696                    27                     16                  3.0   \n",
       "\n",
       "       tweet_url_count  tweet_mention_count  tweet_has_attachment  \\\n",
       "0                  2.0                  0.0                     1   \n",
       "1                  0.0                  1.0                     0   \n",
       "2                  1.0                  0.0                     0   \n",
       "3                  1.0                  1.0                     0   \n",
       "4                  2.0                  0.0                     1   \n",
       "...                ...                  ...                   ...   \n",
       "12692              0.0                  1.0                     0   \n",
       "12693              1.0                  0.0                     0   \n",
       "12694              1.0                  0.0                     0   \n",
       "12695              1.0                  3.0                     1   \n",
       "12696              2.0                  0.0                     1   \n",
       "\n",
       "       tweet_attachment_class  tweet_language_id  tweet_topic_ids  \n",
       "0                           0                  0                0  \n",
       "1                           2                  0                1  \n",
       "2                           2                  0                2  \n",
       "3                           2                  0                2  \n",
       "4                           0                  0                3  \n",
       "...                       ...                ...              ...  \n",
       "12692                       2                  0                2  \n",
       "12693                       2                  0                2  \n",
       "12694                       2                  0               28  \n",
       "12695                       0                  0             2372  \n",
       "12696                       0                  0              162  \n",
       "\n",
       "[12697 rows x 13 columns]"
      ]
     },
     "execution_count": 93,
     "metadata": {},
     "output_type": "execute_result"
    }
   ],
   "source": [
    "df2_tweets"
   ]
  },
  {
   "cell_type": "code",
   "execution_count": 95,
   "id": "ec85c80a",
   "metadata": {},
   "outputs": [
    {
     "data": {
      "text/plain": [
       "(12697, 13)"
      ]
     },
     "execution_count": 95,
     "metadata": {},
     "output_type": "execute_result"
    }
   ],
   "source": [
    "df2_tweets.shape"
   ]
  },
  {
   "cell_type": "code",
   "execution_count": 96,
   "id": "a5622ffd",
   "metadata": {},
   "outputs": [],
   "source": [
    "Y_pred_lr = lr.predict(df2_tweets)"
   ]
  },
  {
   "cell_type": "code",
   "execution_count": 97,
   "id": "fdf4b4b3",
   "metadata": {},
   "outputs": [
    {
     "name": "stderr",
     "output_type": "stream",
     "text": [
      "C:\\Users\\ANKIT\\anaconda3\\lib\\site-packages\\xgboost\\data.py:112: UserWarning: Use subset (sliced data) of np.ndarray is not recommended because it will generate extra copies and increase memory consumption\n",
      "  warnings.warn(\n"
     ]
    }
   ],
   "source": [
    "Y_pred_xgb = xgb_model.predict(df2_tweets)"
   ]
  },
  {
   "cell_type": "code",
   "execution_count": 98,
   "id": "f80a4fb7",
   "metadata": {},
   "outputs": [],
   "source": [
    "Y_pred_dt = dt.predict(df2_tweets)"
   ]
  },
  {
   "cell_type": "code",
   "execution_count": 99,
   "id": "b9ec7b16",
   "metadata": {},
   "outputs": [],
   "source": [
    "Y_pred_knn=knn.predict(df2_tweets)"
   ]
  },
  {
   "cell_type": "code",
   "execution_count": 106,
   "id": "4dbf2dc7",
   "metadata": {},
   "outputs": [],
   "source": [
    "submission1 = pd.DataFrame({\n",
    "        \"tweet_id\": df2_tweets['tweet_id'],\n",
    "        \"Virality\": Y_pred_xgb\n",
    "    })"
   ]
  },
  {
   "cell_type": "code",
   "execution_count": 107,
   "id": "f7e2922b",
   "metadata": {},
   "outputs": [],
   "source": [
    "submission2 = pd.DataFrame({\n",
    "        \"tweet_id\": df2_tweets['tweet_id'],\n",
    "        \"Virality\": Y_pred_knn\n",
    "    })"
   ]
  },
  {
   "cell_type": "code",
   "execution_count": 108,
   "id": "2f11b106",
   "metadata": {},
   "outputs": [],
   "source": [
    "submission3 = pd.DataFrame({\n",
    "        \"tweet_id\": df2_tweets['tweet_id'],\n",
    "        \"virality\": Y_pred_dt\n",
    "    })"
   ]
  },
  {
   "cell_type": "code",
   "execution_count": 109,
   "id": "7e8bb4f1",
   "metadata": {},
   "outputs": [],
   "source": [
    "submission4 = pd.DataFrame({\n",
    "        \"tweet_id\": df2_tweets['tweet_id'],\n",
    "        \"Virality\": Y_pred_lr\n",
    "    })"
   ]
  },
  {
   "cell_type": "code",
   "execution_count": 110,
   "id": "73c00560",
   "metadata": {
    "collapsed": true
   },
   "outputs": [
    {
     "data": {
      "text/html": [
       "<div>\n",
       "<style scoped>\n",
       "    .dataframe tbody tr th:only-of-type {\n",
       "        vertical-align: middle;\n",
       "    }\n",
       "\n",
       "    .dataframe tbody tr th {\n",
       "        vertical-align: top;\n",
       "    }\n",
       "\n",
       "    .dataframe thead th {\n",
       "        text-align: right;\n",
       "    }\n",
       "</style>\n",
       "<table border=\"1\" class=\"dataframe\">\n",
       "  <thead>\n",
       "    <tr style=\"text-align: right;\">\n",
       "      <th></th>\n",
       "      <th>tweet_id</th>\n",
       "      <th>Virality</th>\n",
       "    </tr>\n",
       "  </thead>\n",
       "  <tbody>\n",
       "    <tr>\n",
       "      <th>0</th>\n",
       "      <td>6238</td>\n",
       "      <td>1</td>\n",
       "    </tr>\n",
       "    <tr>\n",
       "      <th>1</th>\n",
       "      <td>37458</td>\n",
       "      <td>1</td>\n",
       "    </tr>\n",
       "    <tr>\n",
       "      <th>2</th>\n",
       "      <td>23968</td>\n",
       "      <td>5</td>\n",
       "    </tr>\n",
       "    <tr>\n",
       "      <th>3</th>\n",
       "      <td>24137</td>\n",
       "      <td>5</td>\n",
       "    </tr>\n",
       "    <tr>\n",
       "      <th>4</th>\n",
       "      <td>8064</td>\n",
       "      <td>2</td>\n",
       "    </tr>\n",
       "    <tr>\n",
       "      <th>...</th>\n",
       "      <td>...</td>\n",
       "      <td>...</td>\n",
       "    </tr>\n",
       "    <tr>\n",
       "      <th>12692</th>\n",
       "      <td>2418</td>\n",
       "      <td>2</td>\n",
       "    </tr>\n",
       "    <tr>\n",
       "      <th>12693</th>\n",
       "      <td>40872</td>\n",
       "      <td>3</td>\n",
       "    </tr>\n",
       "    <tr>\n",
       "      <th>12694</th>\n",
       "      <td>29847</td>\n",
       "      <td>3</td>\n",
       "    </tr>\n",
       "    <tr>\n",
       "      <th>12695</th>\n",
       "      <td>2939</td>\n",
       "      <td>2</td>\n",
       "    </tr>\n",
       "    <tr>\n",
       "      <th>12696</th>\n",
       "      <td>28838</td>\n",
       "      <td>3</td>\n",
       "    </tr>\n",
       "  </tbody>\n",
       "</table>\n",
       "<p>12697 rows × 2 columns</p>\n",
       "</div>"
      ],
      "text/plain": [
       "       tweet_id  Virality\n",
       "0          6238         1\n",
       "1         37458         1\n",
       "2         23968         5\n",
       "3         24137         5\n",
       "4          8064         2\n",
       "...         ...       ...\n",
       "12692      2418         2\n",
       "12693     40872         3\n",
       "12694     29847         3\n",
       "12695      2939         2\n",
       "12696     28838         3\n",
       "\n",
       "[12697 rows x 2 columns]"
      ]
     },
     "execution_count": 110,
     "metadata": {},
     "output_type": "execute_result"
    }
   ],
   "source": [
    "submission1"
   ]
  },
  {
   "cell_type": "code",
   "execution_count": 111,
   "id": "9203fe5a",
   "metadata": {
    "collapsed": true
   },
   "outputs": [
    {
     "data": {
      "text/html": [
       "<div>\n",
       "<style scoped>\n",
       "    .dataframe tbody tr th:only-of-type {\n",
       "        vertical-align: middle;\n",
       "    }\n",
       "\n",
       "    .dataframe tbody tr th {\n",
       "        vertical-align: top;\n",
       "    }\n",
       "\n",
       "    .dataframe thead th {\n",
       "        text-align: right;\n",
       "    }\n",
       "</style>\n",
       "<table border=\"1\" class=\"dataframe\">\n",
       "  <thead>\n",
       "    <tr style=\"text-align: right;\">\n",
       "      <th></th>\n",
       "      <th>tweet_id</th>\n",
       "      <th>Virality</th>\n",
       "    </tr>\n",
       "  </thead>\n",
       "  <tbody>\n",
       "    <tr>\n",
       "      <th>0</th>\n",
       "      <td>6238</td>\n",
       "      <td>1</td>\n",
       "    </tr>\n",
       "    <tr>\n",
       "      <th>1</th>\n",
       "      <td>37458</td>\n",
       "      <td>1</td>\n",
       "    </tr>\n",
       "    <tr>\n",
       "      <th>2</th>\n",
       "      <td>23968</td>\n",
       "      <td>5</td>\n",
       "    </tr>\n",
       "    <tr>\n",
       "      <th>3</th>\n",
       "      <td>24137</td>\n",
       "      <td>5</td>\n",
       "    </tr>\n",
       "    <tr>\n",
       "      <th>4</th>\n",
       "      <td>8064</td>\n",
       "      <td>2</td>\n",
       "    </tr>\n",
       "    <tr>\n",
       "      <th>...</th>\n",
       "      <td>...</td>\n",
       "      <td>...</td>\n",
       "    </tr>\n",
       "    <tr>\n",
       "      <th>12692</th>\n",
       "      <td>2418</td>\n",
       "      <td>1</td>\n",
       "    </tr>\n",
       "    <tr>\n",
       "      <th>12693</th>\n",
       "      <td>40872</td>\n",
       "      <td>3</td>\n",
       "    </tr>\n",
       "    <tr>\n",
       "      <th>12694</th>\n",
       "      <td>29847</td>\n",
       "      <td>3</td>\n",
       "    </tr>\n",
       "    <tr>\n",
       "      <th>12695</th>\n",
       "      <td>2939</td>\n",
       "      <td>2</td>\n",
       "    </tr>\n",
       "    <tr>\n",
       "      <th>12696</th>\n",
       "      <td>28838</td>\n",
       "      <td>1</td>\n",
       "    </tr>\n",
       "  </tbody>\n",
       "</table>\n",
       "<p>12697 rows × 2 columns</p>\n",
       "</div>"
      ],
      "text/plain": [
       "       tweet_id  Virality\n",
       "0          6238         1\n",
       "1         37458         1\n",
       "2         23968         5\n",
       "3         24137         5\n",
       "4          8064         2\n",
       "...         ...       ...\n",
       "12692      2418         1\n",
       "12693     40872         3\n",
       "12694     29847         3\n",
       "12695      2939         2\n",
       "12696     28838         1\n",
       "\n",
       "[12697 rows x 2 columns]"
      ]
     },
     "execution_count": 111,
     "metadata": {},
     "output_type": "execute_result"
    }
   ],
   "source": [
    "submission2"
   ]
  },
  {
   "cell_type": "code",
   "execution_count": 112,
   "id": "6fdf5c74",
   "metadata": {
    "collapsed": true
   },
   "outputs": [
    {
     "data": {
      "text/html": [
       "<div>\n",
       "<style scoped>\n",
       "    .dataframe tbody tr th:only-of-type {\n",
       "        vertical-align: middle;\n",
       "    }\n",
       "\n",
       "    .dataframe tbody tr th {\n",
       "        vertical-align: top;\n",
       "    }\n",
       "\n",
       "    .dataframe thead th {\n",
       "        text-align: right;\n",
       "    }\n",
       "</style>\n",
       "<table border=\"1\" class=\"dataframe\">\n",
       "  <thead>\n",
       "    <tr style=\"text-align: right;\">\n",
       "      <th></th>\n",
       "      <th>tweet_id</th>\n",
       "      <th>virality</th>\n",
       "    </tr>\n",
       "  </thead>\n",
       "  <tbody>\n",
       "    <tr>\n",
       "      <th>0</th>\n",
       "      <td>6238</td>\n",
       "      <td>2</td>\n",
       "    </tr>\n",
       "    <tr>\n",
       "      <th>1</th>\n",
       "      <td>37458</td>\n",
       "      <td>1</td>\n",
       "    </tr>\n",
       "    <tr>\n",
       "      <th>2</th>\n",
       "      <td>23968</td>\n",
       "      <td>4</td>\n",
       "    </tr>\n",
       "    <tr>\n",
       "      <th>3</th>\n",
       "      <td>24137</td>\n",
       "      <td>5</td>\n",
       "    </tr>\n",
       "    <tr>\n",
       "      <th>4</th>\n",
       "      <td>8064</td>\n",
       "      <td>3</td>\n",
       "    </tr>\n",
       "    <tr>\n",
       "      <th>...</th>\n",
       "      <td>...</td>\n",
       "      <td>...</td>\n",
       "    </tr>\n",
       "    <tr>\n",
       "      <th>12692</th>\n",
       "      <td>2418</td>\n",
       "      <td>1</td>\n",
       "    </tr>\n",
       "    <tr>\n",
       "      <th>12693</th>\n",
       "      <td>40872</td>\n",
       "      <td>3</td>\n",
       "    </tr>\n",
       "    <tr>\n",
       "      <th>12694</th>\n",
       "      <td>29847</td>\n",
       "      <td>3</td>\n",
       "    </tr>\n",
       "    <tr>\n",
       "      <th>12695</th>\n",
       "      <td>2939</td>\n",
       "      <td>2</td>\n",
       "    </tr>\n",
       "    <tr>\n",
       "      <th>12696</th>\n",
       "      <td>28838</td>\n",
       "      <td>3</td>\n",
       "    </tr>\n",
       "  </tbody>\n",
       "</table>\n",
       "<p>12697 rows × 2 columns</p>\n",
       "</div>"
      ],
      "text/plain": [
       "       tweet_id  virality\n",
       "0          6238         2\n",
       "1         37458         1\n",
       "2         23968         4\n",
       "3         24137         5\n",
       "4          8064         3\n",
       "...         ...       ...\n",
       "12692      2418         1\n",
       "12693     40872         3\n",
       "12694     29847         3\n",
       "12695      2939         2\n",
       "12696     28838         3\n",
       "\n",
       "[12697 rows x 2 columns]"
      ]
     },
     "execution_count": 112,
     "metadata": {},
     "output_type": "execute_result"
    }
   ],
   "source": [
    "submission3"
   ]
  },
  {
   "cell_type": "code",
   "execution_count": 113,
   "id": "92fba425",
   "metadata": {
    "collapsed": true
   },
   "outputs": [
    {
     "data": {
      "text/html": [
       "<div>\n",
       "<style scoped>\n",
       "    .dataframe tbody tr th:only-of-type {\n",
       "        vertical-align: middle;\n",
       "    }\n",
       "\n",
       "    .dataframe tbody tr th {\n",
       "        vertical-align: top;\n",
       "    }\n",
       "\n",
       "    .dataframe thead th {\n",
       "        text-align: right;\n",
       "    }\n",
       "</style>\n",
       "<table border=\"1\" class=\"dataframe\">\n",
       "  <thead>\n",
       "    <tr style=\"text-align: right;\">\n",
       "      <th></th>\n",
       "      <th>tweet_id</th>\n",
       "      <th>Virality</th>\n",
       "    </tr>\n",
       "  </thead>\n",
       "  <tbody>\n",
       "    <tr>\n",
       "      <th>0</th>\n",
       "      <td>6238</td>\n",
       "      <td>1</td>\n",
       "    </tr>\n",
       "    <tr>\n",
       "      <th>1</th>\n",
       "      <td>37458</td>\n",
       "      <td>1</td>\n",
       "    </tr>\n",
       "    <tr>\n",
       "      <th>2</th>\n",
       "      <td>23968</td>\n",
       "      <td>1</td>\n",
       "    </tr>\n",
       "    <tr>\n",
       "      <th>3</th>\n",
       "      <td>24137</td>\n",
       "      <td>1</td>\n",
       "    </tr>\n",
       "    <tr>\n",
       "      <th>4</th>\n",
       "      <td>8064</td>\n",
       "      <td>1</td>\n",
       "    </tr>\n",
       "    <tr>\n",
       "      <th>...</th>\n",
       "      <td>...</td>\n",
       "      <td>...</td>\n",
       "    </tr>\n",
       "    <tr>\n",
       "      <th>12692</th>\n",
       "      <td>2418</td>\n",
       "      <td>1</td>\n",
       "    </tr>\n",
       "    <tr>\n",
       "      <th>12693</th>\n",
       "      <td>40872</td>\n",
       "      <td>1</td>\n",
       "    </tr>\n",
       "    <tr>\n",
       "      <th>12694</th>\n",
       "      <td>29847</td>\n",
       "      <td>1</td>\n",
       "    </tr>\n",
       "    <tr>\n",
       "      <th>12695</th>\n",
       "      <td>2939</td>\n",
       "      <td>1</td>\n",
       "    </tr>\n",
       "    <tr>\n",
       "      <th>12696</th>\n",
       "      <td>28838</td>\n",
       "      <td>1</td>\n",
       "    </tr>\n",
       "  </tbody>\n",
       "</table>\n",
       "<p>12697 rows × 2 columns</p>\n",
       "</div>"
      ],
      "text/plain": [
       "       tweet_id  Virality\n",
       "0          6238         1\n",
       "1         37458         1\n",
       "2         23968         1\n",
       "3         24137         1\n",
       "4          8064         1\n",
       "...         ...       ...\n",
       "12692      2418         1\n",
       "12693     40872         1\n",
       "12694     29847         1\n",
       "12695      2939         1\n",
       "12696     28838         1\n",
       "\n",
       "[12697 rows x 2 columns]"
      ]
     },
     "execution_count": 113,
     "metadata": {},
     "output_type": "execute_result"
    }
   ],
   "source": [
    "submission4"
   ]
  },
  {
   "cell_type": "code",
   "execution_count": 114,
   "id": "6296f36f",
   "metadata": {},
   "outputs": [],
   "source": [
    "submission1.to_csv('ViralTweets1.csv', index=False)"
   ]
  },
  {
   "cell_type": "code",
   "execution_count": 115,
   "id": "564eb227",
   "metadata": {},
   "outputs": [],
   "source": [
    "submission2.to_csv('ViralTweets2.csv', index=False)"
   ]
  },
  {
   "cell_type": "code",
   "execution_count": 116,
   "id": "3b42fb3a",
   "metadata": {},
   "outputs": [],
   "source": [
    "submission3.to_csv('ViralTweets3.csv', index=False)"
   ]
  },
  {
   "cell_type": "code",
   "execution_count": 117,
   "id": "87e110cc",
   "metadata": {},
   "outputs": [],
   "source": [
    "submission4.to_csv('ViralTweets4.csv', index=False)"
   ]
  },
  {
   "cell_type": "code",
   "execution_count": null,
   "id": "84da375b",
   "metadata": {},
   "outputs": [],
   "source": []
  }
 ],
 "metadata": {
  "kernelspec": {
   "display_name": "Python 3",
   "language": "python",
   "name": "python3"
  },
  "language_info": {
   "codemirror_mode": {
    "name": "ipython",
    "version": 3
   },
   "file_extension": ".py",
   "mimetype": "text/x-python",
   "name": "python",
   "nbconvert_exporter": "python",
   "pygments_lexer": "ipython3",
   "version": "3.8.8"
  }
 },
 "nbformat": 4,
 "nbformat_minor": 5
}
